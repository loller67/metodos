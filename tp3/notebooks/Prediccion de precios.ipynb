{
 "cells": [
  {
   "cell_type": "markdown",
   "metadata": {},
   "source": [
    "# Limpieza de cualquier dataframe\n",
    "\n",
    "En el notebook \"Limpieza de datos no numericos\" estan todos los criterios de limpieza, como necesitabamos poder aplicar el mismo criterio en todo momento de forma que sea facil replicar guardamos todos los criterios en .csv y los levantamos aca para hacer las limpiezas correspondientes. Para crear esos archivos hay que correr todo el notebook \"Limpieza de datos no numericos\" para que se generen esos archivos."
   ]
  },
  {
   "cell_type": "code",
   "execution_count": 1,
   "metadata": {},
   "outputs": [],
   "source": [
    "import pandas as pd\n",
    "import numpy as np\n",
    "\n",
    "import seaborn as sns\n",
    "import matplotlib.pyplot as plt\n",
    "sns.set()\n",
    "\n",
    "from sklearn.linear_model import LinearRegression\n",
    "from sklearn.model_selection import KFold\n",
    "from sklearn.metrics import mean_squared_error, mean_squared_log_error, mean_absolute_error, mean_squared_error\n",
    "from scipy.stats import pearsonr\n",
    "from math import sqrt"
   ]
  },
  {
   "cell_type": "code",
   "execution_count": 2,
   "metadata": {},
   "outputs": [],
   "source": [
    "def reemplazar_por_metrica(df, variable, resumen, metrica):\n",
    "    for p in resumen.index:\n",
    "        df.loc[(df.tipodepropiedad == p) & (df[variable].isnull()), variable] = resumen.loc[p, metrica]\n",
    "        \n",
    "def reemplazar_por_moda(df, variable, resumen):\n",
    "    reemplazar_por_metrica(df, variable, resumen, 'moda')\n",
    "\n",
    "def limpieza_dataframe(df):\n",
    "    # revisar si tiene sentido, 500 sin tipodepropiedad\n",
    "    df.dropna(subset=['tipodepropiedad'], inplace=True)\n",
    "    \n",
    "    # columnas que no vamos a usar\n",
    "    drop_columns = ['centroscomercialescercanos', 'escuelascercanas', 'usosmultiples', 'gimnasio',\n",
    "               'fecha', 'lng', 'lat', 'idzona', 'id', 'direccion', 'titulo', 'descripcion', 'ciudad']\n",
    "    if sum(df.columns.isin(drop_columns)) == len(drop_columns):\n",
    "        df.drop(drop_columns, axis=1, inplace=True)\n",
    "    \n",
    "    # garages\n",
    "    resumen_garages = pd.read_csv('r_garages.csv', index_col='tipodepropiedad')\n",
    "    reemplazar_por_moda(df, 'garages', resumen_garages)\n",
    "    \n",
    "    # baños\n",
    "    resumen_banos = pd.read_csv('r_banos.csv', index_col='tipodepropiedad')\n",
    "    reemplazar_por_moda(df, 'banos', resumen_banos)\n",
    "    \n",
    "    # habitaciones\n",
    "    resumen_habitacion = pd.read_csv('r_habitaciones.csv', index_col='tipodepropiedad')\n",
    "    \n",
    "    sin_habitaciones_y_deberian = list(resumen_habitacion[resumen_habitacion.porcentaje_no < 50].index)\n",
    "\n",
    "    df.loc[(df.habitaciones.isnull())&(~df.tipodepropiedad.isin(sin_habitaciones_y_deberian)), 'habitaciones'] = 0\n",
    "\n",
    "    for p in sin_habitaciones_y_deberian:\n",
    "        df.loc[(df.habitaciones.isnull()) & (df.tipodepropiedad == p), 'habitaciones'] = resumen_habitacion.loc[p, 'moda']\n",
    "    \n",
    "    # antiguedad\n",
    "    resumen_antiguedad = pd.read_csv('r_antiguedad.csv', index_col='tipodepropiedad')\n",
    "    reemplazar_por_moda(df, 'antiguedad', resumen_antiguedad)\n",
    "\n",
    "    # metrostotales y metroscubiertos\n",
    "    df.loc[(~df.metroscubiertos.isnull()) & (df.metrostotales.isnull()), 'metrostotales'] = df.loc[(~df.metroscubiertos.isnull()) & (df.metrostotales.isnull()), 'metroscubiertos']\n",
    "    df.loc[(df.metroscubiertos.isnull()) & (~df.metrostotales.isnull()), 'metroscubiertos'] = df.loc[(df.metroscubiertos.isnull()) & (~df.metrostotales.isnull()), 'metrostotales']\n"
   ]
  },
  {
   "cell_type": "markdown",
   "metadata": {},
   "source": [
    "### compilar el codigo de C++"
   ]
  },
  {
   "cell_type": "code",
   "execution_count": 3,
   "metadata": {},
   "outputs": [
    {
     "name": "stdout",
     "output_type": "stream",
     "text": [
      "mkdir: cannot create directory ‘build’: File exists\n",
      "-- The C compiler identification is GNU 9.3.0\n",
      "-- The CXX compiler identification is GNU 9.3.0\n",
      "-- Check for working C compiler: /usr/bin/cc\n",
      "-- Check for working C compiler: /usr/bin/cc -- works\n",
      "-- Detecting C compiler ABI info\n",
      "-- Detecting C compiler ABI info - done\n",
      "-- Detecting C compile features\n",
      "-- Detecting C compile features - done\n",
      "-- Check for working CXX compiler: /usr/bin/c++\n",
      "-- Check for working CXX compiler: /usr/bin/c++ -- works\n",
      "-- Detecting CXX compiler ABI info\n",
      "-- Detecting CXX compiler ABI info - done\n",
      "-- Detecting CXX compile features\n",
      "-- Detecting CXX compile features - done\n",
      "Release mode\n",
      "-- Found PythonInterp: /home/dario/anaconda3/bin/python (found version \"3.7.6\") \n",
      "-- Found PythonLibs: /home/dario/anaconda3/lib/libpython3.7m.so\n",
      "-- pybind11 v2.2.4\n",
      "-- Performing Test HAS_FLTO\n",
      "-- Performing Test HAS_FLTO - Success\n",
      "-- LTO enabled\n",
      "CMAKE_INSTALL_PREFIX=/home/dario/Projects/MetNum-1C2020/tp3\n",
      "-- Configuring done\n",
      "-- Generating done\n",
      "-- Build files have been written to: /home/dario/Projects/MetNum-1C2020/tp3/build\n",
      "\u001b[35m\u001b[1mScanning dependencies of target metnum\u001b[0m\n",
      "[ 33%] \u001b[32mBuilding CXX object CMakeFiles/metnum.dir/src/metnum.cpp.o\u001b[0m\n",
      "[ 66%] \u001b[32mBuilding CXX object CMakeFiles/metnum.dir/src/linear_regression.cpp.o\u001b[0m\n",
      "[100%] \u001b[32m\u001b[1mLinking CXX shared module metnum.cpython-37m-x86_64-linux-gnu.so\u001b[0m\n",
      "[100%] Built target metnum\n",
      "\u001b[36mInstall the project...\u001b[0m\n",
      "-- Install configuration: \"Release\"\n",
      "-- Installing: /home/dario/Projects/MetNum-1C2020/tp3/notebooks/metnum.cpython-37m-x86_64-linux-gnu.so\n"
     ]
    }
   ],
   "source": [
    "!cd .. && mkdir build\n",
    "!cd ../build/ && rm -rf *\n",
    "!cd ../build && cmake \\\n",
    "  -DPYTHON_EXECUTABLE=\"$(which python)\" \\\n",
    "  -DCMAKE_BUILD_TYPE=Release ..\n",
    "!cd ../build && make install"
   ]
  },
  {
   "cell_type": "code",
   "execution_count": 4,
   "metadata": {},
   "outputs": [],
   "source": [
    "import metnum"
   ]
  },
  {
   "cell_type": "markdown",
   "metadata": {},
   "source": [
    "### Aplico los filtros del notebook de Analisis exploratorio"
   ]
  },
  {
   "cell_type": "code",
   "execution_count": 5,
   "metadata": {},
   "outputs": [
    {
     "name": "stdout",
     "output_type": "stream",
     "text": [
      "<class 'pandas.core.frame.DataFrame'>\n",
      "Int64Index: 239954 entries, 0 to 239999\n",
      "Data columns (total 10 columns):\n",
      " #   Column           Non-Null Count   Dtype  \n",
      "---  ------           --------------   -----  \n",
      " 0   tipodepropiedad  239954 non-null  object \n",
      " 1   provincia        239801 non-null  object \n",
      " 2   antiguedad       239954 non-null  float64\n",
      " 3   habitaciones     239954 non-null  float64\n",
      " 4   garages          239954 non-null  float64\n",
      " 5   banos            239954 non-null  float64\n",
      " 6   metroscubiertos  239954 non-null  float64\n",
      " 7   metrostotales    239954 non-null  float64\n",
      " 8   piscina          239954 non-null  float64\n",
      " 9   precio           239954 non-null  float64\n",
      "dtypes: float64(8), object(2)\n",
      "memory usage: 20.1+ MB\n"
     ]
    }
   ],
   "source": [
    "df_original_raw = pd.read_csv('../data/train.csv')\n",
    "df_original = df_original_raw.copy()\n",
    "limpieza_dataframe(df_original)\n",
    "df_original.info()"
   ]
  },
  {
   "cell_type": "markdown",
   "metadata": {},
   "source": [
    "# Funciones utiles"
   ]
  },
  {
   "cell_type": "code",
   "execution_count": 6,
   "metadata": {},
   "outputs": [],
   "source": [
    "def simple_regression(x_df, y):\n",
    "    linear_regressor = LinearRegression()\n",
    "    linear_regressor.fit(x_df, y)\n",
    "    \n",
    "    y_pred = linear_regressor.predict(x_df)\n",
    "    \n",
    "    assert(len(y) == len(y_pred))\n",
    "    return (linear_regressor, y_pred)\n",
    "\n",
    "def delete_negatives(y, y_pred):\n",
    "    assert(len(y) == len(y_pred))\n",
    "    y_out = []\n",
    "    y_pred_out = []\n",
    "    for y_i, y_pred_i in zip(y, y_pred):\n",
    "        if y_pred_i >= 0:\n",
    "            y_out.append(y_i)\n",
    "            y_pred_out.append(y_pred_i)\n",
    "\n",
    "    return y_out, y_pred_out"
   ]
  },
  {
   "cell_type": "markdown",
   "metadata": {},
   "source": [
    "La funcion kfold toman n segmentos en el parametro, itera por cada uno y en cada uno de ellos hace kfold. Una vez eso calcula y guarda el regressor para cada kfold de cada segmento y lo guarda para poder ver coeficientes o usarlos luego. Calcula RMSE, RMLSE y MAE por cada kfold y lo guarda. Tambien se guarda todas las predicciones y todas los y de cada kfold para luego calcular el error de todo el modelo para poder compararlos entre modelos distintos para ver cuales dan mejor que otros"
   ]
  },
  {
   "cell_type": "code",
   "execution_count": 7,
   "metadata": {},
   "outputs": [],
   "source": [
    "def calc_errors(y_test, y_pred):\n",
    "    rmse  = sqrt(mean_squared_error(y_test, y_pred))\n",
    "    rmlse = sqrt(mean_squared_log_error(y_test, y_pred))\n",
    "    mae   = mean_absolute_error(y_test, y_pred)\n",
    "    return {'rmse':rmse, 'rmlse': rmlse, 'mae': mae}\n",
    "\n",
    "def run_kfold(segmentos, y_label='precio'):\n",
    "    out = {}\n",
    "    global_y      = []\n",
    "    global_y_pred = []\n",
    "    for seg in segmentos.keys():\n",
    "        data = segmentos[seg]\n",
    "        \n",
    "        y = data[y_label]\n",
    "        x = data.drop([y_label], axis=1)\n",
    "        \n",
    "        results    = []\n",
    "        runs       = []\n",
    "        regressors = []\n",
    "\n",
    "        kfold = KFold(10, shuffle=True, random_state=1)\n",
    "        for train, test in kfold.split(data):\n",
    "            X_train = x.values[train]\n",
    "            y_train = y.values[train]\n",
    "\n",
    "            X_test = x.values[test]\n",
    "            y_test = y.values[test]\n",
    "\n",
    "#             linear_regressor = LinearRegression().fit(X_train, y_train)\n",
    "#             y_pred = linear_regressor.predict(X_test)\n",
    "            linear_regressor = metnum.LinearRegression()\n",
    "            linear_regressor.fit(X_train, y_train)\n",
    "            y_pred = [y_p[0] for y_p in linear_regressor.predict(X_test)]\n",
    "            \n",
    "            \n",
    "            y_test, y_pred = delete_negatives(y_test, y_pred)\n",
    "            \n",
    "            # actualizo y, y_pred global para calcular el rmse de forma global\n",
    "            assert len(y_test) >= 1          , \"Tienen que haber mas de 1 registro de test\"\n",
    "            assert len(y_test) == len(y_pred), \"Tienen que tenes la misma cantidad y e y_pred\"\n",
    "            \n",
    "            global_y      = global_y      + y_test\n",
    "            global_y_pred = global_y_pred + y_pred\n",
    "\n",
    "            results.append(calc_errors(y_test, y_pred))\n",
    "            runs.append({'y_test': y_test, 'y_pred': y_pred})\n",
    "            regressors.append(linear_regressor)\n",
    "        \n",
    "        out[seg] = {'results': pd.DataFrame(results), 'regressors': regressors, 'runs': runs}\n",
    "    global_errors = calc_errors(global_y, global_y_pred)\n",
    "    out['global_errors'] =  global_errors\n",
    "    return out"
   ]
  },
  {
   "cell_type": "markdown",
   "metadata": {},
   "source": [
    "# K-fold por segmentos"
   ]
  },
  {
   "cell_type": "code",
   "execution_count": 8,
   "metadata": {},
   "outputs": [],
   "source": [
    "def run_kfold_show_info(segmentos):\n",
    "    print(\"Segmentos:\")\n",
    "    for seg in segmentos.keys():\n",
    "        print(\"{:15}: {:6} registros\".format(seg, len(segmentos[seg].index)))\n",
    "    \n",
    "    r_kfold = run_kfold(segmentos)\n",
    "    \n",
    "    print()\n",
    "    print()\n",
    "    print(\"Error global\")\n",
    "    for k in r_kfold['global_errors'].keys():\n",
    "        print(\"{:10} : {}\".format(k, format(r_kfold['global_errors'][k], \".6E\")))\n",
    "    \n",
    "    return r_kfold"
   ]
  },
  {
   "cell_type": "markdown",
   "metadata": {},
   "source": [
    "## prediccion con kfold de todo el data set"
   ]
  },
  {
   "cell_type": "markdown",
   "metadata": {},
   "source": [
    "#### tirar las predicciones con todo el dataset sin ningun segmento, para tener un error base"
   ]
  },
  {
   "cell_type": "code",
   "execution_count": 9,
   "metadata": {},
   "outputs": [],
   "source": [
    "todo = {'todo': df_original.drop(['tipodepropiedad', 'provincia'], axis=1)}\n",
    "results_todo = run_kfold(todo)"
   ]
  },
  {
   "cell_type": "code",
   "execution_count": 10,
   "metadata": {},
   "outputs": [
    {
     "data": {
      "text/plain": [
       "rmse     1.639373e+06\n",
       "rmlse    6.157373e-01\n",
       "mae      1.117407e+06\n",
       "dtype: float64"
      ]
     },
     "execution_count": 10,
     "metadata": {},
     "output_type": "execute_result"
    }
   ],
   "source": [
    "results_todo['todo']['results'].mean()"
   ]
  },
  {
   "cell_type": "markdown",
   "metadata": {},
   "source": [
    "## Segmentacion por propiedades\n",
    "\n",
    "Como esta en el notebook de \"Analisis exploratoria\" vamos a dividir en 4 grupos:\n",
    "- Apartamentos\n",
    "- Casas, Casas en condomivion, Casa uso de suelo (viviendas)\n",
    "- Local Comercial, Oficina comercial, Bodega comercial, Terreno comercial, Local en centro comercial (comerciales)\n",
    "- Otros (son todo el resto)\n"
   ]
  },
  {
   "cell_type": "code",
   "execution_count": 11,
   "metadata": {},
   "outputs": [],
   "source": [
    "def segmentacion_propiedades(df):\n",
    "    segmentos = {}\n",
    "    \n",
    "    departamentos = [\"Apartamento\"]\n",
    "    segmentos[\"departamentos\"] = df[df.tipodepropiedad.isin(departamentos)].drop(['tipodepropiedad', 'provincia'], axis=1)\n",
    "    \n",
    "    casas = [\"Casa\", \"Casa en condominio\", \"Casa uso de suelo\"]\n",
    "    segmentos[\"casas\"] = df[df.tipodepropiedad.isin(casas)].drop(['tipodepropiedad', 'provincia'], axis=1)\n",
    "    \n",
    "    comerciales = [\"Local Comercial\", \"Oficina comercial\", \"Bodega comercial\", \"Terreno comercial\", \"Local en centro comercial\"]\n",
    "    segmentos[\"comerciales\"] = df[df.tipodepropiedad.isin(comerciales)].drop(['tipodepropiedad', 'provincia'], axis=1)\n",
    "    \n",
    "    otros = departamentos + casas + comerciales\n",
    "    segmentos['otros'] = df[~df.tipodepropiedad.isin(otros)].drop(['tipodepropiedad', 'provincia'], axis=1)\n",
    "\n",
    "    return segmentos"
   ]
  },
  {
   "cell_type": "markdown",
   "metadata": {},
   "source": [
    "#### prediccion con segmentos de propiedades pero sin ninguna feature nueva\n",
    "\n",
    "Mejoran bastante bien todas las metricas en cada feature."
   ]
  },
  {
   "cell_type": "code",
   "execution_count": 12,
   "metadata": {},
   "outputs": [
    {
     "name": "stdout",
     "output_type": "stream",
     "text": [
      "Segmentos:\n",
      "departamentos  :  57341 registros\n",
      "casas          : 161722 registros\n",
      "comerciales    :   7693 registros\n",
      "otros          :  13198 registros\n",
      "\n",
      "\n",
      "Error global\n",
      "rmse       : 1.444986E+06\n",
      "rmlse      : 5.721170E-01\n",
      "mae        : 9.419970E+05\n"
     ]
    }
   ],
   "source": [
    "segmentos_propiedades = segmentacion_propiedades(df_original)\n",
    "kfold_propiedades = run_kfold_show_info(segmentos_propiedades)"
   ]
  },
  {
   "cell_type": "markdown",
   "metadata": {},
   "source": [
    "##  Segmentacion por provincias\n",
    "\n",
    "Agarramos el top X provincias y juntamos el resto en un segmento llamado \"todos\""
   ]
  },
  {
   "cell_type": "code",
   "execution_count": 13,
   "metadata": {},
   "outputs": [],
   "source": [
    "def segmentacion_provincias(df, top_provinces=10):\n",
    "    segmentos = {}\n",
    "    \n",
    "    provincias = list(df.groupby('provincia').count()['precio'].sort_values(ascending=False).head(top_provinces).index)\n",
    "    \n",
    "    for p in provincias:\n",
    "        segmentos[p] = df[df.provincia == p].drop(['tipodepropiedad', 'provincia'], axis=1)\n",
    "    \n",
    "    segmentos['otros'] = df[~df.provincia.isin(provincias)].drop(['tipodepropiedad', 'provincia'], axis=1)\n",
    "\n",
    "    return segmentos"
   ]
  },
  {
   "cell_type": "markdown",
   "metadata": {},
   "source": [
    "se puede modificar la cantidad de provincias a tomar"
   ]
  },
  {
   "cell_type": "code",
   "execution_count": 14,
   "metadata": {},
   "outputs": [
    {
     "name": "stdout",
     "output_type": "stream",
     "text": [
      "Segmentos:\n",
      "Distrito Federal:  58790 registros\n",
      "Edo. de México :  41604 registros\n",
      "Jalisco        :  21238 registros\n",
      "Querétaro      :  16988 registros\n",
      "Nuevo León     :  15324 registros\n",
      "Puebla         :  10421 registros\n",
      "San luis Potosí:   8411 registros\n",
      "Yucatán        :   7925 registros\n",
      "Morelos        :   7337 registros\n",
      "Veracruz       :   5760 registros\n",
      "Quintana Roo   :   4756 registros\n",
      "Chihuahua      :   4590 registros\n",
      "Coahuila       :   3695 registros\n",
      "Baja California Norte:   3220 registros\n",
      "Sonora         :   2988 registros\n",
      "Guanajuato     :   2860 registros\n",
      "Guerrero       :   2678 registros\n",
      "otros          :  21369 registros\n",
      "\n",
      "\n",
      "Error global\n",
      "rmse       : 1.363460E+06\n",
      "rmlse      : 5.335574E-01\n",
      "mae        : 8.717059E+05\n"
     ]
    }
   ],
   "source": [
    "segmentos_provincias = segmentacion_provincias(df_original, 17)\n",
    "\n",
    "kfold_provincias = run_kfold_show_info(segmentos_provincias)"
   ]
  },
  {
   "cell_type": "code",
   "execution_count": 15,
   "metadata": {},
   "outputs": [
    {
     "name": "stdout",
     "output_type": "stream",
     "text": [
      "CPU times: user 18.4 s, sys: 3.29 ms, total: 18.4 s\n",
      "Wall time: 18.4 s\n"
     ]
    }
   ],
   "source": [
    "%%time\n",
    "p_errors = {'rmse': [], 'rmlse': [], 'mae': []}\n",
    "for i in range(1, 21):\n",
    "    segmento_i = segmentacion_provincias(df_original, i)\n",
    "    kfold_p_i = run_kfold(segmento_i)\n",
    "    p_errors['rmse'] .append(kfold_p_i['global_errors']['rmse'])\n",
    "    p_errors['rmlse'].append(kfold_p_i['global_errors']['rmlse'])\n",
    "    p_errors['mae'] .append(kfold_p_i['global_errors']['mae'])"
   ]
  },
  {
   "cell_type": "code",
   "execution_count": 16,
   "metadata": {},
   "outputs": [
    {
     "data": {
      "image/png": "[encoded data removed]",
      "text/plain": [
       "<Figure size 432x288 with 1 Axes>"
      ]
     },
     "metadata": {},
     "output_type": "display_data"
    },
    {
     "data": {
      "image/png": "[encoded data removed]",
      "text/plain": [
       "<Figure size 432x288 with 1 Axes>"
      ]
     },
     "metadata": {},
     "output_type": "display_data"
    },
    {
     "data": {
      "image/png": "[encoded data removed]",
      "text/plain": [
       "<Figure size 432x288 with 1 Axes>"
      ]
     },
     "metadata": {},
     "output_type": "display_data"
    }
   ],
   "source": [
    "df_p = pd.DataFrame(data=p_errors, index=range(1, 21))\n",
    "df_p.rmse.plot(title=\"RMSE vs cuantas provincias se segmentan\")\n",
    "_ = plt.xticks(range(1, 21))\n",
    "plt.show()\n",
    "df_p.rmlse.plot(title=\"RMLSE vs cuantas provincias se segmentan\")\n",
    "_ = plt.xticks(range(1, 21))\n",
    "plt.show()\n",
    "df_p.mae.plot(title=\"MAE vs cuantas provincias se segmentan\")\n",
    "_ = plt.xticks(range(1, 21))\n",
    "plt.show()"
   ]
  },
  {
   "cell_type": "code",
   "execution_count": 17,
   "metadata": {},
   "outputs": [],
   "source": [
    "def correr_sin_segmentar_y_segmentando(df):\n",
    "    todo = {'todo': df.drop(['tipodepropiedad', 'provincia', 'banos'], axis=1)}\n",
    "    kfold_todo = run_kfold(todo)\n",
    "    \n",
    "    segmentos_propiedades = segmentacion_propiedades(df)\n",
    "    kfold_propiedades = run_kfold(segmentos_propiedades)\n",
    "    \n",
    "    segmentos_provincias = segmentacion_provincias(df, 17)\n",
    "    kfold_provincias = run_kfold(segmentos_provincias)\n",
    "    \n",
    "    print(\"################\")\n",
    "    print(\"Sin segmentar\")\n",
    "    for k in kfold_todo['global_errors'].keys():\n",
    "        print(\"{:10} : {}\".format(k, format(kfold_todo['global_errors'][k], \".6E\")))\n",
    "    print(\"################\")\n",
    "    print(\"Segmentado por propiedades\")\n",
    "    for k in kfold_propiedades['global_errors'].keys():\n",
    "        print(\"{:10} : {}\".format(k, format(kfold_propiedades['global_errors'][k], \".6E\")))\n",
    "    print(\"################\")\n",
    "    print(\"Segmentado por provincias\")\n",
    "    for k in kfold_provincias['global_errors'].keys():\n",
    "        print(\"{:10} : {}\".format(k, format(kfold_provincias['global_errors'][k], \".6E\")))\n",
    "    print(\"################\")\n",
    "    \n",
    "    return (todo, kfold_todo, segmentos_propiedades, kfold_propiedades, segmentos_provincias, kfold_provincias)"
   ]
  },
  {
   "cell_type": "markdown",
   "metadata": {},
   "source": [
    "# Features engineering\n",
    "\n",
    "Aquí vamos a analizar nuevos features y trataremos de mejorar los modelos de prediccion"
   ]
  },
  {
   "cell_type": "code",
   "execution_count": 18,
   "metadata": {},
   "outputs": [
    {
     "name": "stdout",
     "output_type": "stream",
     "text": [
      "################\n",
      "Sin segmentar\n",
      "rmse       : 1.672245E+06\n",
      "rmlse      : 6.479175E-01\n",
      "mae        : 1.146750E+06\n",
      "################\n",
      "Segmentado por propiedades\n",
      "rmse       : 1.444986E+06\n",
      "rmlse      : 5.721170E-01\n",
      "mae        : 9.419970E+05\n",
      "################\n",
      "Segmentado por provincias\n",
      "rmse       : 1.363460E+06\n",
      "rmlse      : 5.335574E-01\n",
      "mae        : 8.717059E+05\n",
      "################\n"
     ]
    }
   ],
   "source": [
    "# todo = {'todo': df_original.drop(['tipodepropiedad', 'provincia'], axis=1)}\n",
    "# results_todo = run_kfold_show_info(todo)\n",
    "run_todo = correr_sin_segmentar_y_segmentando(df_original)"
   ]
  },
  {
   "cell_type": "markdown",
   "metadata": {},
   "source": [
    "##### probe de sacar cualquier feature del dataset completo y todo hace que empeore... incluso saque metros totales que deberia estar compensado con metroscubiertos pero da peor el RSME"
   ]
  },
  {
   "cell_type": "markdown",
   "metadata": {},
   "source": [
    "# feature ratio baño / metros cubiertos\n",
    "\n",
    "metroscubiertos / (baños+1)\n",
    "\n",
    "hay propiedades que tiene 0 baños, para evitar divisiones por cero, se agrega el mas uno"
   ]
  },
  {
   "cell_type": "code",
   "execution_count": 19,
   "metadata": {},
   "outputs": [],
   "source": [
    "data_ratio_bano = df_original.copy()\n",
    "data_ratio_bano['ratio'] = data_ratio_bano.metroscubiertos / (data_ratio_bano.banos + 1)"
   ]
  },
  {
   "cell_type": "code",
   "execution_count": 20,
   "metadata": {},
   "outputs": [
    {
     "name": "stdout",
     "output_type": "stream",
     "text": [
      "################\n",
      "Sin segmentar\n",
      "rmse       : 1.619630E+06\n",
      "rmlse      : 6.009082E-01\n",
      "mae        : 1.100932E+06\n",
      "################\n",
      "Segmentado por propiedades\n",
      "rmse       : 1.438134E+06\n",
      "rmlse      : 5.279827E-01\n",
      "mae        : 9.300051E+05\n",
      "################\n",
      "Segmentado por provincias\n",
      "rmse       : 1.341212E+06\n",
      "rmlse      : 4.819485E-01\n",
      "mae        : 8.459144E+05\n",
      "################\n"
     ]
    }
   ],
   "source": [
    "run_ratio = correr_sin_segmentar_y_segmentando(data_ratio_bano)"
   ]
  },
  {
   "cell_type": "markdown",
   "metadata": {},
   "source": [
    "Mejora siempre un poquitin con cada segmentacion"
   ]
  },
  {
   "cell_type": "markdown",
   "metadata": {},
   "source": [
    "# Feature articulo de lujo\n",
    "\n",
    "Este feature consiste de la suma de un 1 si tiene cada uno de estas variables: garages, banos > 2, gimnasio, usosmultiples, piscina.\n",
    "\n",
    "En caso del baño se considera \"lujo\" la existencia de mas de 1 baño."
   ]
  },
  {
   "cell_type": "code",
   "execution_count": 21,
   "metadata": {},
   "outputs": [],
   "source": [
    "def tiene(variable, df):\n",
    "    return (df[variable]>0).apply(int)\n",
    "\n",
    "df_lujo = df_original_raw.copy()\n",
    "lujos = tiene('garages', df_lujo) + tiene('usosmultiples', df_lujo) + tiene('piscina', df_lujo) +tiene('gimnasio', df_lujo)\n",
    "df_lujo['lujo'] = (df_lujo['banos']> 2).apply(int) + lujos\n",
    "\n",
    "limpieza_dataframe(df_lujo) # empezamos desde el dataframe sin limpiar, le agrego la columna y lo limpio :)"
   ]
  },
  {
   "cell_type": "code",
   "execution_count": 22,
   "metadata": {},
   "outputs": [
    {
     "name": "stdout",
     "output_type": "stream",
     "text": [
      "################\n",
      "Sin segmentar\n",
      "rmse       : 1.655176E+06\n",
      "rmlse      : 6.566536E-01\n",
      "mae        : 1.133993E+06\n",
      "################\n",
      "Segmentado por propiedades\n",
      "rmse       : 1.444384E+06\n",
      "rmlse      : 5.790179E-01\n",
      "mae        : 9.425378E+05\n",
      "################\n",
      "Segmentado por provincias\n",
      "rmse       : 1.362086E+06\n",
      "rmlse      : 5.311371E-01\n",
      "mae        : 8.705547E+05\n",
      "################\n"
     ]
    }
   ],
   "source": [
    "run_lujo = correr_sin_segmentar_y_segmentando(df_lujo)"
   ]
  },
  {
   "cell_type": "markdown",
   "metadata": {},
   "source": [
    "## lujo + ratio baño"
   ]
  },
  {
   "cell_type": "code",
   "execution_count": 23,
   "metadata": {},
   "outputs": [],
   "source": [
    "df_lujo_ratio = df_lujo.copy()\n",
    "df_lujo_ratio['ratio'] = df_lujo_ratio.metroscubiertos / (df_lujo_ratio.banos + 1)"
   ]
  },
  {
   "cell_type": "code",
   "execution_count": 24,
   "metadata": {},
   "outputs": [
    {
     "name": "stdout",
     "output_type": "stream",
     "text": [
      "################\n",
      "Sin segmentar\n",
      "rmse       : 1.618101E+06\n",
      "rmlse      : 6.000658E-01\n",
      "mae        : 1.099327E+06\n",
      "################\n",
      "Segmentado por propiedades\n",
      "rmse       : 1.437215E+06\n",
      "rmlse      : 5.319061E-01\n",
      "mae        : 9.304114E+05\n",
      "################\n",
      "Segmentado por provincias\n",
      "rmse       : 1.339869E+06\n",
      "rmlse      : 4.809144E-01\n",
      "mae        : 8.449147E+05\n",
      "################\n"
     ]
    }
   ],
   "source": [
    "run_lujo_ratio = correr_sin_segmentar_y_segmentando(df_lujo_ratio)"
   ]
  },
  {
   "cell_type": "code",
   "execution_count": 25,
   "metadata": {},
   "outputs": [
    {
     "data": {
      "image/png": "[encoded data removed]",
      "text/plain": [
       "<Figure size 432x288 with 1 Axes>"
      ]
     },
     "metadata": {},
     "output_type": "display_data"
    },
    {
     "data": {
      "image/png": "[encoded data removed]",
      "text/plain": [
       "<Figure size 432x288 with 1 Axes>"
      ]
     },
     "metadata": {},
     "output_type": "display_data"
    },
    {
     "data": {
      "image/png": "[encoded data removed]",
      "text/plain": [
       "<Figure size 432x288 with 1 Axes>"
      ]
     },
     "metadata": {},
     "output_type": "display_data"
    }
   ],
   "source": [
    "def agregar_dato(sin, seg_prop, seg_prov, indexes, metrica, run, index):\n",
    "    sin.append(run[1]['global_errors'][metrica])\n",
    "    seg_prop.append(run[3]['global_errors'][metrica])\n",
    "    seg_prov.append(run[5]['global_errors'][metrica])\n",
    "    indexes.append(index)\n",
    "\n",
    "\n",
    "def plot(metrica, title):\n",
    "    sin      = []\n",
    "    seg_prop = []\n",
    "    seg_prov = []\n",
    "    indexes  = []\n",
    "    agregar_dato(sin, seg_prop, seg_prov, indexes, metrica, run_todo, 'sin feature extra')\n",
    "    agregar_dato(sin, seg_prop, seg_prov, indexes, metrica, run_ratio, 'ratio baño')\n",
    "    agregar_dato(sin, seg_prop, seg_prov, indexes, metrica, run_lujo, 'lujo')\n",
    "    agregar_dato(sin, seg_prop, seg_prov, indexes, metrica, run_lujo_ratio, 'lujo + ratio baño')\n",
    "\n",
    "    df_barplot = pd.DataFrame({'sin segmentacion': sin,\n",
    "                               'segmentacion propiedades': seg_prop,\n",
    "                               'segmentacion provincias': seg_prov,\n",
    "                               }, index=indexes)\n",
    "\n",
    "    df_barplot.plot(rot=0, figsize=(6, 4), title=title)\n",
    "    \n",
    "\n",
    "plot('rmse', 'RMSE')\n",
    "plot('rmlse', 'RMLSE')\n",
    "plot('mae', 'Mean Absolute Error')"
   ]
  }
 ],
 "metadata": {
  "kernelspec": {
   "display_name": "Python 3",
   "language": "python",
   "name": "python3"
  },
  "language_info": {
   "codemirror_mode": {
    "name": "ipython",
    "version": 3
   },
   "file_extension": ".py",
   "mimetype": "text/x-python",
   "name": "python",
   "nbconvert_exporter": "python",
   "pygments_lexer": "ipython3",
   "version": "3.7.6"
  }
 },
 "nbformat": 4,
 "nbformat_minor": 4
}
