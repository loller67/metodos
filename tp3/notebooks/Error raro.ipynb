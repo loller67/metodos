{
 "cells": [
  {
   "cell_type": "code",
   "execution_count": 1,
   "metadata": {},
   "outputs": [],
   "source": [
    "import pandas as pd\n",
    "import numpy as np\n",
    "\n",
    "import seaborn as sns\n",
    "import matplotlib.pyplot as plt\n",
    "\n",
    "import metnum\n",
    "\n",
    "from sklearn.linear_model import LinearRegression\n",
    "from sklearn.model_selection import KFold\n",
    "from sklearn.metrics import mean_squared_error, mean_squared_log_error\n",
    "from scipy.stats import pearsonr\n"
   ]
  },
  {
   "cell_type": "code",
   "execution_count": 2,
   "metadata": {},
   "outputs": [],
   "source": [
    "def reemplazar_por_metrica(df, variable, resumen, metrica):\n",
    "    for p in resumen.index:\n",
    "        df.loc[(df.tipodepropiedad == p) & (df[variable].isnull()), variable] = resumen.loc[p, metrica]\n",
    "        \n",
    "def reemplazar_por_moda(df, variable, resumen):\n",
    "    reemplazar_por_metrica(df, variable, resumen, 'moda')\n",
    "\n",
    "def limpieza_dataframe(df):\n",
    "    # revisar si tiene sentido, 500 sin tipodepropiedad\n",
    "    df.dropna(subset=['tipodepropiedad'], inplace=True)\n",
    "    \n",
    "    # columnas que no vamos a usar\n",
    "    drop_columns = ['centroscomercialescercanos', 'escuelascercanas', 'usosmultiples', 'gimnasio',\n",
    "               'fecha', 'lng', 'lat', 'idzona', 'id', 'direccion', 'titulo', 'descripcion', 'ciudad']\n",
    "    if sum(df.columns.isin(drop_columns)) == len(drop_columns):\n",
    "        df.drop(drop_columns, axis=1, inplace=True)\n",
    "    \n",
    "    # garages\n",
    "    resumen_garages = pd.read_csv('r_garages.csv', index_col='tipodepropiedad')\n",
    "    reemplazar_por_moda(df, 'garages', resumen_garages)\n",
    "    \n",
    "    # baños\n",
    "    resumen_banos = pd.read_csv('r_banos.csv', index_col='tipodepropiedad')\n",
    "    reemplazar_por_moda(df, 'banos', resumen_banos)\n",
    "    \n",
    "    # habitaciones\n",
    "    resumen_habitacion = pd.read_csv('r_habitaciones.csv', index_col='tipodepropiedad')\n",
    "    \n",
    "    sin_habitaciones_y_deberian = list(resumen_habitacion[resumen_habitacion.porcentaje_no < 50].index)\n",
    "\n",
    "    df.loc[(df.habitaciones.isnull())&(~df.tipodepropiedad.isin(sin_habitaciones_y_deberian)), 'habitaciones'] = 0\n",
    "\n",
    "    for p in sin_habitaciones_y_deberian:\n",
    "        df.loc[(df.habitaciones.isnull()) & (df.tipodepropiedad == p), 'habitaciones'] = resumen_habitacion.loc[p, 'moda']\n",
    "    \n",
    "    # antiguedad\n",
    "    resumen_antiguedad = pd.read_csv('r_antiguedad.csv', index_col='tipodepropiedad')\n",
    "    reemplazar_por_moda(df, 'antiguedad', resumen_antiguedad)\n",
    "\n",
    "    # metrostotales y metroscubiertos\n",
    "    df.loc[(~df.metroscubiertos.isnull()) & (df.metrostotales.isnull()), 'metrostotales'] = df.loc[(~df.metroscubiertos.isnull()) & (df.metrostotales.isnull()), 'metroscubiertos']\n",
    "    df.loc[(df.metroscubiertos.isnull()) & (~df.metrostotales.isnull()), 'metroscubiertos'] = df.loc[(df.metroscubiertos.isnull()) & (~df.metrostotales.isnull()), 'metrostotales']\n"
   ]
  },
  {
   "cell_type": "code",
   "execution_count": 3,
   "metadata": {},
   "outputs": [],
   "source": [
    "df = pd.read_csv('../data/train.csv')\n",
    "limpieza_dataframe(df)"
   ]
  },
  {
   "cell_type": "code",
   "execution_count": 4,
   "metadata": {},
   "outputs": [
    {
     "name": "stdout",
     "output_type": "stream",
     "text": [
      "<class 'pandas.core.frame.DataFrame'>\n",
      "Int64Index: 10421 entries, 26 to 239987\n",
      "Data columns (total 10 columns):\n",
      " #   Column           Non-Null Count  Dtype  \n",
      "---  ------           --------------  -----  \n",
      " 0   tipodepropiedad  10421 non-null  object \n",
      " 1   provincia        10421 non-null  object \n",
      " 2   antiguedad       10421 non-null  float64\n",
      " 3   habitaciones     10421 non-null  float64\n",
      " 4   garages          10421 non-null  float64\n",
      " 5   banos            10421 non-null  float64\n",
      " 6   metroscubiertos  10421 non-null  float64\n",
      " 7   metrostotales    10421 non-null  float64\n",
      " 8   piscina          10421 non-null  float64\n",
      " 9   precio           10421 non-null  float64\n",
      "dtypes: float64(8), object(2)\n",
      "memory usage: 895.6+ KB\n"
     ]
    }
   ],
   "source": [
    "puebla = df[df.provincia==\"Puebla\"].copy()\n",
    "puebla.info()"
   ]
  },
  {
   "cell_type": "code",
   "execution_count": 5,
   "metadata": {},
   "outputs": [
    {
     "data": {
      "text/plain": [
       "(constante           1.0\n",
       " metroscubiertos    15.0\n",
       " metrostotales      17.0\n",
       " banos               1.0\n",
       " dtype: float64,\n",
       " 310000.0)"
      ]
     },
     "execution_count": 5,
     "metadata": {},
     "output_type": "execute_result"
    }
   ],
   "source": [
    "puebla['constante'] = 1\n",
    "data = puebla[['constante', 'metroscubiertos', 'metrostotales', 'antiguedad', 'habitaciones', 'garages', 'banos', 'precio']].copy()\n",
    "\n",
    "x = data[['constante', 'metroscubiertos', 'metrostotales', 'banos']]\n",
    "y = data['precio']\n",
    "\n",
    "x.min(), y.min()"
   ]
  },
  {
   "cell_type": "markdown",
   "metadata": {},
   "source": [
    "## no hay valores menores menores a 1"
   ]
  },
  {
   "cell_type": "code",
   "execution_count": 6,
   "metadata": {},
   "outputs": [],
   "source": [
    "# x.info()\n",
    "# y.info()\n",
    "linear_regressor = LinearRegression()\n",
    "linear_regressor.fit(x, y)\n",
    "\n",
    "y_pred = linear_regressor.predict(x)"
   ]
  },
  {
   "cell_type": "code",
   "execution_count": 7,
   "metadata": {},
   "outputs": [
    {
     "data": {
      "text/plain": [
       "array([     0.        ,   8257.54728203,   4340.71550956, 368090.72099224])"
      ]
     },
     "execution_count": 7,
     "metadata": {},
     "output_type": "execute_result"
    }
   ],
   "source": [
    "\n",
    "linear_regressor.coef_"
   ]
  },
  {
   "cell_type": "code",
   "execution_count": 8,
   "metadata": {},
   "outputs": [
    {
     "data": {
      "text/plain": [
       "-218484.07459045318"
      ]
     },
     "execution_count": 8,
     "metadata": {},
     "output_type": "execute_result"
    }
   ],
   "source": [
    "y_pred.min()"
   ]
  },
  {
   "cell_type": "markdown",
   "metadata": {},
   "source": [
    "## no hay coeficientes negativos, no hay ningun precio negativo y ningun dato del fit negativo, pero trae cosas negativas.... raro"
   ]
  },
  {
   "cell_type": "code",
   "execution_count": 9,
   "metadata": {},
   "outputs": [
    {
     "data": {
      "text/plain": [
       "array([[  628],\n",
       "       [  721],\n",
       "       [  762],\n",
       "       [ 1042],\n",
       "       [ 1774],\n",
       "       [ 1920],\n",
       "       [ 2247],\n",
       "       [ 2397],\n",
       "       [ 3144],\n",
       "       [ 3664],\n",
       "       [ 3736],\n",
       "       [ 5969],\n",
       "       [ 6557],\n",
       "       [ 6864],\n",
       "       [ 7702],\n",
       "       [ 8164],\n",
       "       [ 8272],\n",
       "       [ 8940],\n",
       "       [ 9025],\n",
       "       [ 9395],\n",
       "       [ 9546],\n",
       "       [ 9639],\n",
       "       [10013]])"
      ]
     },
     "execution_count": 9,
     "metadata": {},
     "output_type": "execute_result"
    }
   ],
   "source": [
    "np.argwhere(y_pred < 0)"
   ]
  },
  {
   "cell_type": "code",
   "execution_count": 12,
   "metadata": {},
   "outputs": [
    {
     "name": "stdout",
     "output_type": "stream",
     "text": [
      "constante           1.0\n",
      "metroscubiertos    27.0\n",
      "metrostotales      27.0\n",
      "banos               1.0\n",
      "Name: 13161, dtype: float64\n",
      "\n",
      "\n",
      "Predccion negativa -92501.4466744765\n",
      "Dato calculado a mano 708243.8163653788\n"
     ]
    }
   ],
   "source": [
    "print(x.iloc[628, :])\n",
    "print()\n",
    "print()\n",
    "print(\"Predccion negativa\", y_pred[628])\n",
    "print(\"Dato calculado a mano\", x.iloc[628,:].array @ linear_regressor.coef_)"
   ]
  }
 ],
 "metadata": {
  "kernelspec": {
   "display_name": "Python 3",
   "language": "python",
   "name": "python3"
  },
  "language_info": {
   "codemirror_mode": {
    "name": "ipython",
    "version": 3
   },
   "file_extension": ".py",
   "mimetype": "text/x-python",
   "name": "python",
   "nbconvert_exporter": "python",
   "pygments_lexer": "ipython3",
   "version": "3.6.10"
  }
 },
 "nbformat": 4,
 "nbformat_minor": 4
}
