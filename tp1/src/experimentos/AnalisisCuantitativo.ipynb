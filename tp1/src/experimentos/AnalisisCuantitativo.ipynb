{
 "cells": [
  {
   "cell_type": "code",
   "execution_count": 1,
   "metadata": {},
   "outputs": [],
   "source": [
    "import pandas as pd\n",
    "import seaborn as sns\n",
    "import subprocess as sp\n",
    "\n",
    "sns.set(color_codes=True)"
   ]
  },
  {
   "cell_type": "markdown",
   "metadata": {},
   "source": [
    "# Comparación vs test de la catedra\n",
    "En este experimento obtenemos el error absoluto entre los valores obtenidos por el TP y los esperados por la cátedra utilizando los datos de prueba provistos."
   ]
  },
  {
   "cell_type": "code",
   "execution_count": 2,
   "metadata": {},
   "outputs": [
    {
     "data": {
      "text/plain": [
       "0"
      ]
     },
     "execution_count": 2,
     "metadata": {},
     "output_type": "execute_result"
    }
   ],
   "source": [
    "testInFile = '../tests/test_completos/test_completo_100_8.in'\n",
    "expectedOutFile = '../tests/test_completos/test_completo_100_8.expected'\n",
    "\n",
    "tpScoreOut = 'test_completo_100_8.out'\n",
    "\n",
    "sp.call([\"../tp\", testInFile, tpScoreOut, '0'])"
   ]
  },
  {
   "cell_type": "code",
   "execution_count": 3,
   "metadata": {},
   "outputs": [],
   "source": [
    "expectedScore = pd.read_csv(expectedOutFile, names=['Puntaje'])\n",
    "tpScore = pd.read_csv(tpScoreOut, names=['Puntaje'])"
   ]
  },
  {
   "cell_type": "code",
   "execution_count": 4,
   "metadata": {},
   "outputs": [],
   "source": [
    "errorTpVsCatedra = pd.DataFrame({'Equipo': expectedScore.index, 'TP': tpScore['Puntaje'], 'Cátedra': expectedScore['Puntaje'], 'Error': abs(tpScore['Puntaje'] - expectedScore['Puntaje'])})"
   ]
  },
  {
   "cell_type": "code",
   "execution_count": 5,
   "metadata": {},
   "outputs": [
    {
     "data": {
      "text/plain": [
       "<matplotlib.lines.Line2D at 0x7f7d9c5f3240>"
      ]
     },
     "execution_count": 5,
     "metadata": {},
     "output_type": "execute_result"
    },
    {
     "data": {
      "image/png": "[encoded data removed]",
      "text/plain": [
       "<Figure size 432x288 with 1 Axes>"
      ]
     },
     "metadata": {
      "needs_background": "light"
     },
     "output_type": "display_data"
    }
   ],
   "source": [
    "ax = sns.lineplot(x=\"Equipo\", y=\"Error\", data=errorTpVsCatedra)\n",
    "ax.set_yscale(\"log\")\n",
    "ax.axhline(0.0001)"
   ]
  },
  {
   "cell_type": "code",
   "execution_count": 6,
   "metadata": {},
   "outputs": [
    {
     "data": {
      "text/html": [
       "<style  type=\"text/css\" >\n",
       "</style><table id=\"T_7b7ba740_8d16_11ea_9580_20cf3011e81c\" ><thead>    <tr>        <th class=\"col_heading level0 col0\" >Equipo</th>        <th class=\"col_heading level0 col1\" >TP</th>        <th class=\"col_heading level0 col2\" >Cátedra</th>        <th class=\"col_heading level0 col3\" >Error</th>    </tr></thead><tbody>\n",
       "                <tr>\n",
       "                                <td id=\"T_7b7ba740_8d16_11ea_9580_20cf3011e81crow0_col0\" class=\"data row0 col0\" >68</td>\n",
       "                        <td id=\"T_7b7ba740_8d16_11ea_9580_20cf3011e81crow0_col1\" class=\"data row0 col1\" >0.537182</td>\n",
       "                        <td id=\"T_7b7ba740_8d16_11ea_9580_20cf3011e81crow0_col2\" class=\"data row0 col2\" >0.537179</td>\n",
       "                        <td id=\"T_7b7ba740_8d16_11ea_9580_20cf3011e81crow0_col3\" class=\"data row0 col3\" >2.66126e-06</td>\n",
       "            </tr>\n",
       "            <tr>\n",
       "                                <td id=\"T_7b7ba740_8d16_11ea_9580_20cf3011e81crow1_col0\" class=\"data row1 col0\" >63</td>\n",
       "                        <td id=\"T_7b7ba740_8d16_11ea_9580_20cf3011e81crow1_col1\" class=\"data row1 col1\" >0.479508</td>\n",
       "                        <td id=\"T_7b7ba740_8d16_11ea_9580_20cf3011e81crow1_col2\" class=\"data row1 col2\" >0.479505</td>\n",
       "                        <td id=\"T_7b7ba740_8d16_11ea_9580_20cf3011e81crow1_col3\" class=\"data row1 col3\" >2.64935e-06</td>\n",
       "            </tr>\n",
       "            <tr>\n",
       "                                <td id=\"T_7b7ba740_8d16_11ea_9580_20cf3011e81crow2_col0\" class=\"data row2 col0\" >82</td>\n",
       "                        <td id=\"T_7b7ba740_8d16_11ea_9580_20cf3011e81crow2_col1\" class=\"data row2 col1\" >0.449548</td>\n",
       "                        <td id=\"T_7b7ba740_8d16_11ea_9580_20cf3011e81crow2_col2\" class=\"data row2 col2\" >0.449545</td>\n",
       "                        <td id=\"T_7b7ba740_8d16_11ea_9580_20cf3011e81crow2_col3\" class=\"data row2 col3\" >2.63406e-06</td>\n",
       "            </tr>\n",
       "            <tr>\n",
       "                                <td id=\"T_7b7ba740_8d16_11ea_9580_20cf3011e81crow3_col0\" class=\"data row3 col0\" >81</td>\n",
       "                        <td id=\"T_7b7ba740_8d16_11ea_9580_20cf3011e81crow3_col1\" class=\"data row3 col1\" >0.390938</td>\n",
       "                        <td id=\"T_7b7ba740_8d16_11ea_9580_20cf3011e81crow3_col2\" class=\"data row3 col2\" >0.390936</td>\n",
       "                        <td id=\"T_7b7ba740_8d16_11ea_9580_20cf3011e81crow3_col3\" class=\"data row3 col3\" >2.6313e-06</td>\n",
       "            </tr>\n",
       "            <tr>\n",
       "                                <td id=\"T_7b7ba740_8d16_11ea_9580_20cf3011e81crow4_col0\" class=\"data row4 col0\" >88</td>\n",
       "                        <td id=\"T_7b7ba740_8d16_11ea_9580_20cf3011e81crow4_col1\" class=\"data row4 col1\" >0.513433</td>\n",
       "                        <td id=\"T_7b7ba740_8d16_11ea_9580_20cf3011e81crow4_col2\" class=\"data row4 col2\" >0.51343</td>\n",
       "                        <td id=\"T_7b7ba740_8d16_11ea_9580_20cf3011e81crow4_col3\" class=\"data row4 col3\" >2.62891e-06</td>\n",
       "            </tr>\n",
       "            <tr>\n",
       "                                <td id=\"T_7b7ba740_8d16_11ea_9580_20cf3011e81crow5_col0\" class=\"data row5 col0\" >57</td>\n",
       "                        <td id=\"T_7b7ba740_8d16_11ea_9580_20cf3011e81crow5_col1\" class=\"data row5 col1\" >0.497318</td>\n",
       "                        <td id=\"T_7b7ba740_8d16_11ea_9580_20cf3011e81crow5_col2\" class=\"data row5 col2\" >0.497316</td>\n",
       "                        <td id=\"T_7b7ba740_8d16_11ea_9580_20cf3011e81crow5_col3\" class=\"data row5 col3\" >2.59909e-06</td>\n",
       "            </tr>\n",
       "            <tr>\n",
       "                                <td id=\"T_7b7ba740_8d16_11ea_9580_20cf3011e81crow6_col0\" class=\"data row6 col0\" >42</td>\n",
       "                        <td id=\"T_7b7ba740_8d16_11ea_9580_20cf3011e81crow6_col1\" class=\"data row6 col1\" >0.541767</td>\n",
       "                        <td id=\"T_7b7ba740_8d16_11ea_9580_20cf3011e81crow6_col2\" class=\"data row6 col2\" >0.541764</td>\n",
       "                        <td id=\"T_7b7ba740_8d16_11ea_9580_20cf3011e81crow6_col3\" class=\"data row6 col3\" >2.59674e-06</td>\n",
       "            </tr>\n",
       "            <tr>\n",
       "                                <td id=\"T_7b7ba740_8d16_11ea_9580_20cf3011e81crow7_col0\" class=\"data row7 col0\" >50</td>\n",
       "                        <td id=\"T_7b7ba740_8d16_11ea_9580_20cf3011e81crow7_col1\" class=\"data row7 col1\" >0.455269</td>\n",
       "                        <td id=\"T_7b7ba740_8d16_11ea_9580_20cf3011e81crow7_col2\" class=\"data row7 col2\" >0.455266</td>\n",
       "                        <td id=\"T_7b7ba740_8d16_11ea_9580_20cf3011e81crow7_col3\" class=\"data row7 col3\" >2.59604e-06</td>\n",
       "            </tr>\n",
       "            <tr>\n",
       "                                <td id=\"T_7b7ba740_8d16_11ea_9580_20cf3011e81crow8_col0\" class=\"data row8 col0\" >85</td>\n",
       "                        <td id=\"T_7b7ba740_8d16_11ea_9580_20cf3011e81crow8_col1\" class=\"data row8 col1\" >0.457894</td>\n",
       "                        <td id=\"T_7b7ba740_8d16_11ea_9580_20cf3011e81crow8_col2\" class=\"data row8 col2\" >0.457892</td>\n",
       "                        <td id=\"T_7b7ba740_8d16_11ea_9580_20cf3011e81crow8_col3\" class=\"data row8 col3\" >2.59592e-06</td>\n",
       "            </tr>\n",
       "            <tr>\n",
       "                                <td id=\"T_7b7ba740_8d16_11ea_9580_20cf3011e81crow9_col0\" class=\"data row9 col0\" >46</td>\n",
       "                        <td id=\"T_7b7ba740_8d16_11ea_9580_20cf3011e81crow9_col1\" class=\"data row9 col1\" >0.568494</td>\n",
       "                        <td id=\"T_7b7ba740_8d16_11ea_9580_20cf3011e81crow9_col2\" class=\"data row9 col2\" >0.568491</td>\n",
       "                        <td id=\"T_7b7ba740_8d16_11ea_9580_20cf3011e81crow9_col3\" class=\"data row9 col3\" >2.58441e-06</td>\n",
       "            </tr>\n",
       "    </tbody></table>"
      ],
      "text/plain": [
       "<pandas.io.formats.style.Styler at 0x7f7d9a454f98>"
      ]
     },
     "execution_count": 6,
     "metadata": {},
     "output_type": "execute_result"
    }
   ],
   "source": [
    "errorTpVsCatedra.sort_values(by=['Error'], ascending=False).head(10).style.hide_index()"
   ]
  },
  {
   "cell_type": "markdown",
   "metadata": {},
   "source": [
    "# Comparación vs Numpy\n",
    "\n",
    "En este experimento comparamos el error de los rankings obtenidos utilizando como entradas datos reales de los encuentros ATP, la comparación es entre el puntaje obtenido mediante el TP contra una implementación en numpy"
   ]
  },
  {
   "cell_type": "markdown",
   "metadata": {},
   "source": [
    "Calculamos el ranking con el TP"
   ]
  },
  {
   "cell_type": "code",
   "execution_count": 7,
   "metadata": {},
   "outputs": [
    {
     "name": "stdout",
     "output_type": "stream",
     "text": [
      "Done\n"
     ]
    },
    {
     "data": {
      "text/plain": [
       "0"
      ]
     },
     "execution_count": 7,
     "metadata": {},
     "output_type": "execute_result"
    }
   ],
   "source": [
    "import atp2mn\n",
    "import json\n",
    "\n",
    "#Entrada Torneos ATP CSV\n",
    "matchesCSV = '../../data/atp_matches_2018-2019.csv'\n",
    "#Entrada Datos de los jugadores CSV\n",
    "playersCSV = '../../data/atp_players.csv'\n",
    "#Entrada Ranking ATP oficial\n",
    "rankingCSV = '../../data/atp_rankings_current.csv'\n",
    "\n",
    "#Salida para tp1\n",
    "tpFileIn = 'atp_matches_2018-2019.in'\n",
    "#Salida de metadatos (nombre jugadores, puntaje atp, etc)\n",
    "metadataFile = 'metadata.json'\n",
    "\n",
    "atp2mn.parseFromCSV(matchesCSV, playersCSV, rankingCSV, tpFileIn, metadataFile)\n",
    "\n",
    "tpOutFile = 'atp_matches_2018-2019.out'\n",
    "\n",
    "sp.call([\"../tp\", tpFileIn, tpOutFile, '0'])"
   ]
  },
  {
   "cell_type": "markdown",
   "metadata": {},
   "source": [
    "Calculamos el ranking con Numpy"
   ]
  },
  {
   "cell_type": "code",
   "execution_count": 8,
   "metadata": {},
   "outputs": [],
   "source": [
    "import numpy as np\n",
    "\n",
    "with open(tpFileIn,'r') as f:\n",
    "    lines = f.readlines()\n",
    "\n",
    "header = lines[0].split()\n",
    "teams = int(header[0])\n",
    "games = int(header[1])\n",
    "\n",
    "teamData = {}\n",
    "for i in range(teams):\n",
    "    teamData[i] = {}\n",
    "    teamData[i][\"gamesPlayed\"] = 0\n",
    "    teamData[i][\"wins\"] = 0\n",
    "    teamData[i][\"losses\"] = 0\n",
    "    teamData[i][\"playedAgainst\"] = [0]*teams\n",
    "\n",
    "for i in range(games):\n",
    "    game = lines[i+1].split()\n",
    "    teamA = int(game[1])-1\n",
    "    goalsA = int(game[2])\n",
    "    teamB = int(game[3])-1\n",
    "    goalsB = int(game[4])\n",
    "\n",
    "    teamData[teamA][\"gamesPlayed\"] += 1\n",
    "    teamData[teamB][\"gamesPlayed\"] += 1\n",
    "    if goalsA > goalsB:\n",
    "        teamData[teamA][\"wins\"] += 1\n",
    "        teamData[teamB][\"losses\"] += 1\n",
    "    else:\n",
    "        teamData[teamA][\"losses\"] += 1\n",
    "        teamData[teamB][\"wins\"] += 1\n",
    "\n",
    "    teamData[teamA][\"playedAgainst\"][teamB]+=1\n",
    "    teamData[teamB][\"playedAgainst\"][teamA]+=1\n",
    "\n",
    "colley = np.zeros((teams, teams))\n",
    "b = np.zeros(teams)\n",
    "for i in teamData:\n",
    "    for j in range(teams):\n",
    "        colley[i][j] = -teamData[i][\"playedAgainst\"][j]\n",
    "    colley[i][i] = 2 + teamData[i][\"gamesPlayed\"]\n",
    "    b[i] = 1+(teamData[i][\"wins\"]-teamData[i][\"losses\"])*0.5\n",
    "\n",
    "numpySolution = np.linalg.solve(colley, b)"
   ]
  },
  {
   "cell_type": "code",
   "execution_count": 9,
   "metadata": {},
   "outputs": [],
   "source": [
    "with open(metadataFile,'r') as playersJson:\n",
    "    playersData = json.load(playersJson)\n",
    "\n",
    "tpScore = pd.read_csv(tpOutFile, names=['Puntaje'])"
   ]
  },
  {
   "cell_type": "code",
   "execution_count": 10,
   "metadata": {
    "scrolled": true
   },
   "outputs": [],
   "source": [
    "errorTpVsNumpy = pd.DataFrame({'Equipo': tpScore.index, 'Jugador': [playersData[str(i+1)]['name'] for i in range(len(tpScore))], 'TP': tpScore['Puntaje'], 'Numpy': numpySolution, 'Error': abs(tpScore['Puntaje'] - numpySolution)})"
   ]
  },
  {
   "cell_type": "code",
   "execution_count": 11,
   "metadata": {},
   "outputs": [
    {
     "data": {
      "text/plain": [
       "<matplotlib.lines.Line2D at 0x7f7d9a4540b8>"
      ]
     },
     "execution_count": 11,
     "metadata": {},
     "output_type": "execute_result"
    },
    {
     "data": {
      "image/png": "[encoded data removed]",
      "text/plain": [
       "<Figure size 432x288 with 1 Axes>"
      ]
     },
     "metadata": {
      "needs_background": "light"
     },
     "output_type": "display_data"
    }
   ],
   "source": [
    "ax = sns.lineplot(x=\"Equipo\", y=\"Error\", data=errorTpVsNumpy)\n",
    "ax.set_yscale(\"log\")\n",
    "ax.axhline(1E-14)"
   ]
  },
  {
   "cell_type": "code",
   "execution_count": 12,
   "metadata": {},
   "outputs": [
    {
     "data": {
      "text/html": [
       "<style  type=\"text/css\" >\n",
       "</style><table id=\"T_8bdb4294_8d16_11ea_9580_20cf3011e81c\" ><thead>    <tr>        <th class=\"col_heading level0 col0\" >Equipo</th>        <th class=\"col_heading level0 col1\" >Jugador</th>        <th class=\"col_heading level0 col2\" >TP</th>        <th class=\"col_heading level0 col3\" >Numpy</th>        <th class=\"col_heading level0 col4\" >Error</th>    </tr></thead><tbody>\n",
       "                <tr>\n",
       "                                <td id=\"T_8bdb4294_8d16_11ea_9580_20cf3011e81crow0_col0\" class=\"data row0 col0\" >128</td>\n",
       "                        <td id=\"T_8bdb4294_8d16_11ea_9580_20cf3011e81crow0_col1\" class=\"data row0 col1\" >Federer</td>\n",
       "                        <td id=\"T_8bdb4294_8d16_11ea_9580_20cf3011e81crow0_col2\" class=\"data row0 col2\" >1.02906</td>\n",
       "                        <td id=\"T_8bdb4294_8d16_11ea_9580_20cf3011e81crow0_col3\" class=\"data row0 col3\" >1.02906</td>\n",
       "                        <td id=\"T_8bdb4294_8d16_11ea_9580_20cf3011e81crow0_col4\" class=\"data row0 col4\" >4.44089e-15</td>\n",
       "            </tr>\n",
       "            <tr>\n",
       "                                <td id=\"T_8bdb4294_8d16_11ea_9580_20cf3011e81crow1_col0\" class=\"data row1 col0\" >121</td>\n",
       "                        <td id=\"T_8bdb4294_8d16_11ea_9580_20cf3011e81crow1_col1\" class=\"data row1 col1\" >Djokovic</td>\n",
       "                        <td id=\"T_8bdb4294_8d16_11ea_9580_20cf3011e81crow1_col2\" class=\"data row1 col2\" >1.08582</td>\n",
       "                        <td id=\"T_8bdb4294_8d16_11ea_9580_20cf3011e81crow1_col3\" class=\"data row1 col3\" >1.08582</td>\n",
       "                        <td id=\"T_8bdb4294_8d16_11ea_9580_20cf3011e81crow1_col4\" class=\"data row1 col4\" >3.55271e-15</td>\n",
       "            </tr>\n",
       "            <tr>\n",
       "                                <td id=\"T_8bdb4294_8d16_11ea_9580_20cf3011e81crow2_col0\" class=\"data row2 col0\" >14</td>\n",
       "                        <td id=\"T_8bdb4294_8d16_11ea_9580_20cf3011e81crow2_col1\" class=\"data row2 col1\" >Del Potro</td>\n",
       "                        <td id=\"T_8bdb4294_8d16_11ea_9580_20cf3011e81crow2_col2\" class=\"data row2 col2\" >1.01672</td>\n",
       "                        <td id=\"T_8bdb4294_8d16_11ea_9580_20cf3011e81crow2_col3\" class=\"data row2 col3\" >1.01672</td>\n",
       "                        <td id=\"T_8bdb4294_8d16_11ea_9580_20cf3011e81crow2_col4\" class=\"data row2 col4\" >2.44249e-15</td>\n",
       "            </tr>\n",
       "            <tr>\n",
       "                                <td id=\"T_8bdb4294_8d16_11ea_9580_20cf3011e81crow3_col0\" class=\"data row3 col0\" >275</td>\n",
       "                        <td id=\"T_8bdb4294_8d16_11ea_9580_20cf3011e81crow3_col1\" class=\"data row3 col1\" >Brands</td>\n",
       "                        <td id=\"T_8bdb4294_8d16_11ea_9580_20cf3011e81crow3_col2\" class=\"data row3 col2\" >0.536975</td>\n",
       "                        <td id=\"T_8bdb4294_8d16_11ea_9580_20cf3011e81crow3_col3\" class=\"data row3 col3\" >0.536975</td>\n",
       "                        <td id=\"T_8bdb4294_8d16_11ea_9580_20cf3011e81crow3_col4\" class=\"data row3 col4\" >1.44329e-15</td>\n",
       "            </tr>\n",
       "            <tr>\n",
       "                                <td id=\"T_8bdb4294_8d16_11ea_9580_20cf3011e81crow4_col0\" class=\"data row4 col0\" >49</td>\n",
       "                        <td id=\"T_8bdb4294_8d16_11ea_9580_20cf3011e81crow4_col1\" class=\"data row4 col1\" >Gasquet</td>\n",
       "                        <td id=\"T_8bdb4294_8d16_11ea_9580_20cf3011e81crow4_col2\" class=\"data row4 col2\" >0.742361</td>\n",
       "                        <td id=\"T_8bdb4294_8d16_11ea_9580_20cf3011e81crow4_col3\" class=\"data row4 col3\" >0.742361</td>\n",
       "                        <td id=\"T_8bdb4294_8d16_11ea_9580_20cf3011e81crow4_col4\" class=\"data row4 col4\" >1.33227e-15</td>\n",
       "            </tr>\n",
       "            <tr>\n",
       "                                <td id=\"T_8bdb4294_8d16_11ea_9580_20cf3011e81crow5_col0\" class=\"data row5 col0\" >78</td>\n",
       "                        <td id=\"T_8bdb4294_8d16_11ea_9580_20cf3011e81crow5_col1\" class=\"data row5 col1\" >Kicker</td>\n",
       "                        <td id=\"T_8bdb4294_8d16_11ea_9580_20cf3011e81crow5_col2\" class=\"data row5 col2\" >0.465702</td>\n",
       "                        <td id=\"T_8bdb4294_8d16_11ea_9580_20cf3011e81crow5_col3\" class=\"data row5 col3\" >0.465702</td>\n",
       "                        <td id=\"T_8bdb4294_8d16_11ea_9580_20cf3011e81crow5_col4\" class=\"data row5 col4\" >1.33227e-15</td>\n",
       "            </tr>\n",
       "            <tr>\n",
       "                                <td id=\"T_8bdb4294_8d16_11ea_9580_20cf3011e81crow6_col0\" class=\"data row6 col0\" >241</td>\n",
       "                        <td id=\"T_8bdb4294_8d16_11ea_9580_20cf3011e81crow6_col1\" class=\"data row6 col1\" >Ruud</td>\n",
       "                        <td id=\"T_8bdb4294_8d16_11ea_9580_20cf3011e81crow6_col2\" class=\"data row6 col2\" >0.639267</td>\n",
       "                        <td id=\"T_8bdb4294_8d16_11ea_9580_20cf3011e81crow6_col3\" class=\"data row6 col3\" >0.639267</td>\n",
       "                        <td id=\"T_8bdb4294_8d16_11ea_9580_20cf3011e81crow6_col4\" class=\"data row6 col4\" >1.22125e-15</td>\n",
       "            </tr>\n",
       "            <tr>\n",
       "                                <td id=\"T_8bdb4294_8d16_11ea_9580_20cf3011e81crow7_col0\" class=\"data row7 col0\" >32</td>\n",
       "                        <td id=\"T_8bdb4294_8d16_11ea_9580_20cf3011e81crow7_col1\" class=\"data row7 col1\" >Pouille</td>\n",
       "                        <td id=\"T_8bdb4294_8d16_11ea_9580_20cf3011e81crow7_col2\" class=\"data row7 col2\" >0.680088</td>\n",
       "                        <td id=\"T_8bdb4294_8d16_11ea_9580_20cf3011e81crow7_col3\" class=\"data row7 col3\" >0.680088</td>\n",
       "                        <td id=\"T_8bdb4294_8d16_11ea_9580_20cf3011e81crow7_col4\" class=\"data row7 col4\" >1.11022e-15</td>\n",
       "            </tr>\n",
       "            <tr>\n",
       "                                <td id=\"T_8bdb4294_8d16_11ea_9580_20cf3011e81crow8_col0\" class=\"data row8 col0\" >304</td>\n",
       "                        <td id=\"T_8bdb4294_8d16_11ea_9580_20cf3011e81crow8_col1\" class=\"data row8 col1\" >Harris</td>\n",
       "                        <td id=\"T_8bdb4294_8d16_11ea_9580_20cf3011e81crow8_col2\" class=\"data row8 col2\" >0.454029</td>\n",
       "                        <td id=\"T_8bdb4294_8d16_11ea_9580_20cf3011e81crow8_col3\" class=\"data row8 col3\" >0.454029</td>\n",
       "                        <td id=\"T_8bdb4294_8d16_11ea_9580_20cf3011e81crow8_col4\" class=\"data row8 col4\" >1.11022e-15</td>\n",
       "            </tr>\n",
       "            <tr>\n",
       "                                <td id=\"T_8bdb4294_8d16_11ea_9580_20cf3011e81crow9_col0\" class=\"data row9 col0\" >135</td>\n",
       "                        <td id=\"T_8bdb4294_8d16_11ea_9580_20cf3011e81crow9_col1\" class=\"data row9 col1\" >Basic</td>\n",
       "                        <td id=\"T_8bdb4294_8d16_11ea_9580_20cf3011e81crow9_col2\" class=\"data row9 col2\" >0.42825</td>\n",
       "                        <td id=\"T_8bdb4294_8d16_11ea_9580_20cf3011e81crow9_col3\" class=\"data row9 col3\" >0.42825</td>\n",
       "                        <td id=\"T_8bdb4294_8d16_11ea_9580_20cf3011e81crow9_col4\" class=\"data row9 col4\" >1.11022e-15</td>\n",
       "            </tr>\n",
       "    </tbody></table>"
      ],
      "text/plain": [
       "<pandas.io.formats.style.Styler at 0x7f7d997bed30>"
      ]
     },
     "execution_count": 12,
     "metadata": {},
     "output_type": "execute_result"
    }
   ],
   "source": [
    "errorTpVsNumpy.sort_values(by=['Error'], ascending=False).head(10).style.hide_index()"
   ]
  },
  {
   "cell_type": "code",
   "execution_count": null,
   "metadata": {},
   "outputs": [],
   "source": []
  }
 ],
 "metadata": {
  "kernelspec": {
   "display_name": "Python 3",
   "language": "python",
   "name": "python3"
  },
  "language_info": {
   "codemirror_mode": {
    "name": "ipython",
    "version": 3
   },
   "file_extension": ".py",
   "mimetype": "text/x-python",
   "name": "python",
   "nbconvert_exporter": "python",
   "pygments_lexer": "ipython3",
   "version": "3.6.8"
  }
 },
 "nbformat": 4,
 "nbformat_minor": 2
}
