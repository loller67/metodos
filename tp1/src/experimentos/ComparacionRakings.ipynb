{
 "cells": [
  {
   "cell_type": "code",
   "execution_count": 1,
   "metadata": {},
   "outputs": [],
   "source": [
    "import pandas as pd\n",
    "import seaborn as sns\n",
    "from scipy import stats\n",
    "import json\n",
    "\n",
    "#Estética de los gráficos\n",
    "sns.set(color_codes=True)"
   ]
  },
  {
   "cell_type": "markdown",
   "metadata": {},
   "source": [
    "# Parsear CSV a archivos de entrada del tp"
   ]
  },
  {
   "cell_type": "code",
   "execution_count": 2,
   "metadata": {},
   "outputs": [
    {
     "name": "stdout",
     "output_type": "stream",
     "text": [
      "Done\n"
     ]
    }
   ],
   "source": [
    "import atp2mn\n",
    "\n",
    "#Entrada Torneos ATP CSV\n",
    "matchesCSV = '../../data/atp_matches_2018-2019.csv'\n",
    "#Entrada Datos de los jugadores CSV\n",
    "playersCSV = '../../data/atp_players.csv'\n",
    "#Entrada Ranking ATP oficial\n",
    "rankingCSV = '../../data/atp_rankings_current.csv'\n",
    "\n",
    "#Salida para tp1\n",
    "tpFileIn = 'atp_matches_2018-2019.in'\n",
    "#Salida de metadatos (nombre jugadores, puntaje atp, etc)\n",
    "metadataFile = 'metadata.json'\n",
    "\n",
    "atp2mn.parseFromCSV(matchesCSV, playersCSV, rankingCSV, tpFileIn, metadataFile)"
   ]
  },
  {
   "cell_type": "markdown",
   "metadata": {},
   "source": [
    "# Correr tp1 con los diferentes métodos"
   ]
  },
  {
   "cell_type": "code",
   "execution_count": 3,
   "metadata": {},
   "outputs": [],
   "source": [
    "#Configuracion\n",
    "tpFileIn = 'atp_matches_2018-2019.in'\n",
    "metadataFile = 'metadata.json'\n",
    "\n",
    "fileOutCMM = 'rankingCMM.out'\n",
    "fileOutWP = 'rankingWP.out'\n",
    "fileOutCMM_ATP = 'rankingCMM_ATP.out'"
   ]
  },
  {
   "cell_type": "code",
   "execution_count": 4,
   "metadata": {
    "scrolled": true
   },
   "outputs": [
    {
     "data": {
      "text/plain": [
       "0"
      ]
     },
     "execution_count": 4,
     "metadata": {},
     "output_type": "execute_result"
    }
   ],
   "source": [
    "import subprocess as sp\n",
    "\n",
    "sp.call([\"../tp\", tpFileIn, fileOutCMM, '0'])\n",
    "sp.call([\"../tp\", tpFileIn, fileOutWP, '1'])\n",
    "sp.call([\"../tp\", tpFileIn, fileOutCMM_ATP, '2'])"
   ]
  },
  {
   "cell_type": "markdown",
   "metadata": {},
   "source": [
    "# Parsear rankings generados por tp1"
   ]
  },
  {
   "cell_type": "code",
   "execution_count": 5,
   "metadata": {},
   "outputs": [],
   "source": [
    "#Cargamos metadatos (nombre de los jugadores, su ranking oficial atp)\n",
    "with open(metadataFile,'r') as playersJson:\n",
    "    playersData = json.load(playersJson)"
   ]
  },
  {
   "cell_type": "code",
   "execution_count": 6,
   "metadata": {
    "scrolled": false
   },
   "outputs": [],
   "source": [
    "dfCMM = pd.read_csv(fileOutCMM, names=['CMM'])\n",
    "dfWP = pd.read_csv(fileOutWP, names=['WP'])\n",
    "dfCMM_ATP = pd.read_csv(fileOutCMM_ATP, names=['CMM-ATP'])\n",
    "\n",
    "rankings = pd.DataFrame({\n",
    "    'Puntaje WP': dfWP['WP'],\n",
    "    'Puntaje CMM': dfCMM['CMM'],\n",
    "    'Puntaje CMM-ATP': dfCMM_ATP['CMM-ATP'],\n",
    "    'Puntaje ATP': [playersData[str(i+1)]['pointsATP'] for i in range(len(dfCMM))],\n",
    "    'Nombre': [playersData[str(i+1)]['name'] for i in range(len(dfCMM))]})"
   ]
  },
  {
   "cell_type": "markdown",
   "metadata": {},
   "source": [
    "# WP vs ATP oficial"
   ]
  },
  {
   "cell_type": "code",
   "execution_count": 7,
   "metadata": {},
   "outputs": [
    {
     "data": {
      "text/html": [
       "<style  type=\"text/css\" >\n",
       "</style><table id=\"T_7f1011a8_8d29_11ea_9580_20cf3011e81c\" ><thead>    <tr>        <th class=\"col_heading level0 col0\" >Puntaje ATP</th>        <th class=\"col_heading level0 col1\" >Puntaje WP</th>        <th class=\"col_heading level0 col2\" >Top WP</th>    </tr></thead><tbody>\n",
       "                <tr>\n",
       "                                <td id=\"T_7f1011a8_8d29_11ea_9580_20cf3011e81crow0_col0\" class=\"data row0 col0\" >84</td>\n",
       "                        <td id=\"T_7f1011a8_8d29_11ea_9580_20cf3011e81crow0_col1\" class=\"data row0 col1\" >1</td>\n",
       "                        <td id=\"T_7f1011a8_8d29_11ea_9580_20cf3011e81crow0_col2\" class=\"data row0 col2\" >Dima</td>\n",
       "            </tr>\n",
       "            <tr>\n",
       "                                <td id=\"T_7f1011a8_8d29_11ea_9580_20cf3011e81crow1_col0\" class=\"data row1 col0\" >0</td>\n",
       "                        <td id=\"T_7f1011a8_8d29_11ea_9580_20cf3011e81crow1_col1\" class=\"data row1 col1\" >1</td>\n",
       "                        <td id=\"T_7f1011a8_8d29_11ea_9580_20cf3011e81crow1_col2\" class=\"data row1 col2\" >Habib</td>\n",
       "            </tr>\n",
       "            <tr>\n",
       "                                <td id=\"T_7f1011a8_8d29_11ea_9580_20cf3011e81crow2_col0\" class=\"data row2 col0\" >8</td>\n",
       "                        <td id=\"T_7f1011a8_8d29_11ea_9580_20cf3011e81crow2_col1\" class=\"data row2 col1\" >1</td>\n",
       "                        <td id=\"T_7f1011a8_8d29_11ea_9580_20cf3011e81crow2_col2\" class=\"data row2 col2\" >Michalski</td>\n",
       "            </tr>\n",
       "            <tr>\n",
       "                                <td id=\"T_7f1011a8_8d29_11ea_9580_20cf3011e81crow3_col0\" class=\"data row3 col0\" >0</td>\n",
       "                        <td id=\"T_7f1011a8_8d29_11ea_9580_20cf3011e81crow3_col1\" class=\"data row3 col1\" >1</td>\n",
       "                        <td id=\"T_7f1011a8_8d29_11ea_9580_20cf3011e81crow3_col2\" class=\"data row3 col2\" >Llanes</td>\n",
       "            </tr>\n",
       "            <tr>\n",
       "                                <td id=\"T_7f1011a8_8d29_11ea_9580_20cf3011e81crow4_col0\" class=\"data row4 col0\" >9</td>\n",
       "                        <td id=\"T_7f1011a8_8d29_11ea_9580_20cf3011e81crow4_col1\" class=\"data row4 col1\" >1</td>\n",
       "                        <td id=\"T_7f1011a8_8d29_11ea_9580_20cf3011e81crow4_col2\" class=\"data row4 col2\" >Alvarez</td>\n",
       "            </tr>\n",
       "            <tr>\n",
       "                                <td id=\"T_7f1011a8_8d29_11ea_9580_20cf3011e81crow5_col0\" class=\"data row5 col0\" >68</td>\n",
       "                        <td id=\"T_7f1011a8_8d29_11ea_9580_20cf3011e81crow5_col1\" class=\"data row5 col1\" >1</td>\n",
       "                        <td id=\"T_7f1011a8_8d29_11ea_9580_20cf3011e81crow5_col2\" class=\"data row5 col2\" >Gonzalez</td>\n",
       "            </tr>\n",
       "            <tr>\n",
       "                                <td id=\"T_7f1011a8_8d29_11ea_9580_20cf3011e81crow6_col0\" class=\"data row6 col0\" >258</td>\n",
       "                        <td id=\"T_7f1011a8_8d29_11ea_9580_20cf3011e81crow6_col1\" class=\"data row6 col1\" >1</td>\n",
       "                        <td id=\"T_7f1011a8_8d29_11ea_9580_20cf3011e81crow6_col2\" class=\"data row6 col2\" >Coppejans</td>\n",
       "            </tr>\n",
       "            <tr>\n",
       "                                <td id=\"T_7f1011a8_8d29_11ea_9580_20cf3011e81crow7_col0\" class=\"data row7 col0\" >0</td>\n",
       "                        <td id=\"T_7f1011a8_8d29_11ea_9580_20cf3011e81crow7_col1\" class=\"data row7 col1\" >1</td>\n",
       "                        <td id=\"T_7f1011a8_8d29_11ea_9580_20cf3011e81crow7_col2\" class=\"data row7 col2\" >Oliel</td>\n",
       "            </tr>\n",
       "            <tr>\n",
       "                                <td id=\"T_7f1011a8_8d29_11ea_9580_20cf3011e81crow8_col0\" class=\"data row8 col0\" >41</td>\n",
       "                        <td id=\"T_7f1011a8_8d29_11ea_9580_20cf3011e81crow8_col1\" class=\"data row8 col1\" >1</td>\n",
       "                        <td id=\"T_7f1011a8_8d29_11ea_9580_20cf3011e81crow8_col2\" class=\"data row8 col2\" >Sultanov</td>\n",
       "            </tr>\n",
       "            <tr>\n",
       "                                <td id=\"T_7f1011a8_8d29_11ea_9580_20cf3011e81crow9_col0\" class=\"data row9 col0\" >0</td>\n",
       "                        <td id=\"T_7f1011a8_8d29_11ea_9580_20cf3011e81crow9_col1\" class=\"data row9 col1\" >1</td>\n",
       "                        <td id=\"T_7f1011a8_8d29_11ea_9580_20cf3011e81crow9_col2\" class=\"data row9 col2\" >Fetisleam</td>\n",
       "            </tr>\n",
       "    </tbody></table>"
      ],
      "text/plain": [
       "<pandas.io.formats.style.Styler at 0x7fd6de886a90>"
      ]
     },
     "metadata": {},
     "output_type": "display_data"
    },
    {
     "data": {
      "text/html": [
       "<style  type=\"text/css\" >\n",
       "</style><table id=\"T_7f1011a9_8d29_11ea_9580_20cf3011e81c\" ><thead>    <tr>        <th class=\"col_heading level0 col0\" >Puntaje ATP</th>        <th class=\"col_heading level0 col1\" >Puntaje WP</th>        <th class=\"col_heading level0 col2\" >Top ATP</th>    </tr></thead><tbody>\n",
       "                <tr>\n",
       "                                <td id=\"T_7f1011a9_8d29_11ea_9580_20cf3011e81crow0_col0\" class=\"data row0 col0\" >10955</td>\n",
       "                        <td id=\"T_7f1011a9_8d29_11ea_9580_20cf3011e81crow0_col1\" class=\"data row0 col1\" >0.833333</td>\n",
       "                        <td id=\"T_7f1011a9_8d29_11ea_9580_20cf3011e81crow0_col2\" class=\"data row0 col2\" >Djokovic</td>\n",
       "            </tr>\n",
       "            <tr>\n",
       "                                <td id=\"T_7f1011a9_8d29_11ea_9580_20cf3011e81crow1_col0\" class=\"data row1 col0\" >8320</td>\n",
       "                        <td id=\"T_7f1011a9_8d29_11ea_9580_20cf3011e81crow1_col1\" class=\"data row1 col1\" >0.90566</td>\n",
       "                        <td id=\"T_7f1011a9_8d29_11ea_9580_20cf3011e81crow1_col2\" class=\"data row1 col2\" >Nadal</td>\n",
       "            </tr>\n",
       "            <tr>\n",
       "                                <td id=\"T_7f1011a9_8d29_11ea_9580_20cf3011e81crow2_col0\" class=\"data row2 col0\" >6475</td>\n",
       "                        <td id=\"T_7f1011a9_8d29_11ea_9580_20cf3011e81crow2_col1\" class=\"data row2 col1\" >0.765432</td>\n",
       "                        <td id=\"T_7f1011a9_8d29_11ea_9580_20cf3011e81crow2_col2\" class=\"data row2 col2\" >Zverev</td>\n",
       "            </tr>\n",
       "            <tr>\n",
       "                                <td id=\"T_7f1011a9_8d29_11ea_9580_20cf3011e81crow3_col0\" class=\"data row3 col0\" >5085</td>\n",
       "                        <td id=\"T_7f1011a9_8d29_11ea_9580_20cf3011e81crow3_col1\" class=\"data row3 col1\" >0.8</td>\n",
       "                        <td id=\"T_7f1011a9_8d29_11ea_9580_20cf3011e81crow3_col2\" class=\"data row3 col2\" >Del Potro</td>\n",
       "            </tr>\n",
       "            <tr>\n",
       "                                <td id=\"T_7f1011a9_8d29_11ea_9580_20cf3011e81crow4_col0\" class=\"data row4 col0\" >4595</td>\n",
       "                        <td id=\"T_7f1011a9_8d29_11ea_9580_20cf3011e81crow4_col1\" class=\"data row4 col1\" >0.71875</td>\n",
       "                        <td id=\"T_7f1011a9_8d29_11ea_9580_20cf3011e81crow4_col2\" class=\"data row4 col2\" >Anderson</td>\n",
       "            </tr>\n",
       "            <tr>\n",
       "                                <td id=\"T_7f1011a9_8d29_11ea_9580_20cf3011e81crow5_col0\" class=\"data row5 col0\" >4190</td>\n",
       "                        <td id=\"T_7f1011a9_8d29_11ea_9580_20cf3011e81crow5_col1\" class=\"data row5 col1\" >0.693333</td>\n",
       "                        <td id=\"T_7f1011a9_8d29_11ea_9580_20cf3011e81crow5_col2\" class=\"data row5 col2\" >Nishikori</td>\n",
       "            </tr>\n",
       "            <tr>\n",
       "                                <td id=\"T_7f1011a9_8d29_11ea_9580_20cf3011e81crow6_col0\" class=\"data row6 col0\" >4100</td>\n",
       "                        <td id=\"T_7f1011a9_8d29_11ea_9580_20cf3011e81crow6_col1\" class=\"data row6 col1\" >0.803571</td>\n",
       "                        <td id=\"T_7f1011a9_8d29_11ea_9580_20cf3011e81crow6_col2\" class=\"data row6 col2\" >Federer</td>\n",
       "            </tr>\n",
       "            <tr>\n",
       "                                <td id=\"T_7f1011a9_8d29_11ea_9580_20cf3011e81crow7_col0\" class=\"data row7 col0\" >3800</td>\n",
       "                        <td id=\"T_7f1011a9_8d29_11ea_9580_20cf3011e81crow7_col1\" class=\"data row7 col1\" >0.661538</td>\n",
       "                        <td id=\"T_7f1011a9_8d29_11ea_9580_20cf3011e81crow7_col2\" class=\"data row7 col2\" >Thiem</td>\n",
       "            </tr>\n",
       "            <tr>\n",
       "                                <td id=\"T_7f1011a9_8d29_11ea_9580_20cf3011e81crow8_col0\" class=\"data row8 col0\" >3270</td>\n",
       "                        <td id=\"T_7f1011a9_8d29_11ea_9580_20cf3011e81crow8_col1\" class=\"data row8 col1\" >0.634921</td>\n",
       "                        <td id=\"T_7f1011a9_8d29_11ea_9580_20cf3011e81crow8_col2\" class=\"data row8 col2\" >Isner</td>\n",
       "            </tr>\n",
       "            <tr>\n",
       "                                <td id=\"T_7f1011a9_8d29_11ea_9580_20cf3011e81crow9_col0\" class=\"data row9 col0\" >3095</td>\n",
       "                        <td id=\"T_7f1011a9_8d29_11ea_9580_20cf3011e81crow9_col1\" class=\"data row9 col1\" >0.672414</td>\n",
       "                        <td id=\"T_7f1011a9_8d29_11ea_9580_20cf3011e81crow9_col2\" class=\"data row9 col2\" >Cilic</td>\n",
       "            </tr>\n",
       "    </tbody></table>"
      ],
      "text/plain": [
       "<pandas.io.formats.style.Styler at 0x7fd6de3a1860>"
      ]
     },
     "metadata": {},
     "output_type": "display_data"
    }
   ],
   "source": [
    "topWP = pd.DataFrame({\n",
    "    'Puntaje ATP': rankings['Puntaje ATP'],\n",
    "    'Puntaje WP': rankings['Puntaje WP'],\n",
    "    'Top WP': rankings['Nombre']\n",
    "})\n",
    "topATP = pd.DataFrame({\n",
    "    'Puntaje ATP': rankings['Puntaje ATP'],\n",
    "    'Puntaje WP': rankings['Puntaje WP'],\n",
    "    'Top ATP': rankings['Nombre']\n",
    "})\n",
    "display(topWP.sort_values(by=['Puntaje WP'], ascending=False).head(10).style.hide_index())\n",
    "display(topATP.sort_values(by=['Puntaje ATP'], ascending=False).head(10).style.hide_index())"
   ]
  },
  {
   "cell_type": "code",
   "execution_count": 9,
   "metadata": {},
   "outputs": [
    {
     "data": {
      "text/plain": [
       "<seaborn.axisgrid.JointGrid at 0x7fd6de246978>"
      ]
     },
     "execution_count": 9,
     "metadata": {},
     "output_type": "execute_result"
    },
    {
     "data": {
      "image/png": "[encoded data removed]",
      "text/plain": [
       "<Figure size 432x432 with 3 Axes>"
      ]
     },
     "metadata": {
      "needs_background": "light"
     },
     "output_type": "display_data"
    }
   ],
   "source": [
    "jp = sns.jointplot(x=\"Puntaje WP\", y=\"Puntaje ATP\", data=rankings)\n",
    "jp.annotate(stats.pearsonr, fontsize=10, loc=(0.1, 0.9))"
   ]
  },
  {
   "cell_type": "markdown",
   "metadata": {},
   "source": [
    "# CMM vs ATP oficial"
   ]
  },
  {
   "cell_type": "code",
   "execution_count": 10,
   "metadata": {},
   "outputs": [
    {
     "data": {
      "text/html": [
       "<style  type=\"text/css\" >\n",
       "</style><table id=\"T_8354cda8_8d29_11ea_9580_20cf3011e81c\" ><thead>    <tr>        <th class=\"col_heading level0 col0\" >Puntaje ATP</th>        <th class=\"col_heading level0 col1\" >Puntaje CMM</th>        <th class=\"col_heading level0 col2\" >Top CMM</th>    </tr></thead><tbody>\n",
       "                <tr>\n",
       "                                <td id=\"T_8354cda8_8d29_11ea_9580_20cf3011e81crow0_col0\" class=\"data row0 col0\" >8320</td>\n",
       "                        <td id=\"T_8354cda8_8d29_11ea_9580_20cf3011e81crow0_col1\" class=\"data row0 col1\" >1.14249</td>\n",
       "                        <td id=\"T_8354cda8_8d29_11ea_9580_20cf3011e81crow0_col2\" class=\"data row0 col2\" >Nadal</td>\n",
       "            </tr>\n",
       "            <tr>\n",
       "                                <td id=\"T_8354cda8_8d29_11ea_9580_20cf3011e81crow1_col0\" class=\"data row1 col0\" >10955</td>\n",
       "                        <td id=\"T_8354cda8_8d29_11ea_9580_20cf3011e81crow1_col1\" class=\"data row1 col1\" >1.08582</td>\n",
       "                        <td id=\"T_8354cda8_8d29_11ea_9580_20cf3011e81crow1_col2\" class=\"data row1 col2\" >Djokovic</td>\n",
       "            </tr>\n",
       "            <tr>\n",
       "                                <td id=\"T_8354cda8_8d29_11ea_9580_20cf3011e81crow2_col0\" class=\"data row2 col0\" >4100</td>\n",
       "                        <td id=\"T_8354cda8_8d29_11ea_9580_20cf3011e81crow2_col1\" class=\"data row2 col1\" >1.02906</td>\n",
       "                        <td id=\"T_8354cda8_8d29_11ea_9580_20cf3011e81crow2_col2\" class=\"data row2 col2\" >Federer</td>\n",
       "            </tr>\n",
       "            <tr>\n",
       "                                <td id=\"T_8354cda8_8d29_11ea_9580_20cf3011e81crow3_col0\" class=\"data row3 col0\" >5085</td>\n",
       "                        <td id=\"T_8354cda8_8d29_11ea_9580_20cf3011e81crow3_col1\" class=\"data row3 col1\" >1.01672</td>\n",
       "                        <td id=\"T_8354cda8_8d29_11ea_9580_20cf3011e81crow3_col2\" class=\"data row3 col2\" >Del Potro</td>\n",
       "            </tr>\n",
       "            <tr>\n",
       "                                <td id=\"T_8354cda8_8d29_11ea_9580_20cf3011e81crow4_col0\" class=\"data row4 col0\" >6475</td>\n",
       "                        <td id=\"T_8354cda8_8d29_11ea_9580_20cf3011e81crow4_col1\" class=\"data row4 col1\" >0.96755</td>\n",
       "                        <td id=\"T_8354cda8_8d29_11ea_9580_20cf3011e81crow4_col2\" class=\"data row4 col2\" >Zverev</td>\n",
       "            </tr>\n",
       "            <tr>\n",
       "                                <td id=\"T_8354cda8_8d29_11ea_9580_20cf3011e81crow5_col0\" class=\"data row5 col0\" >4595</td>\n",
       "                        <td id=\"T_8354cda8_8d29_11ea_9580_20cf3011e81crow5_col1\" class=\"data row5 col1\" >0.933563</td>\n",
       "                        <td id=\"T_8354cda8_8d29_11ea_9580_20cf3011e81crow5_col2\" class=\"data row5 col2\" >Anderson</td>\n",
       "            </tr>\n",
       "            <tr>\n",
       "                                <td id=\"T_8354cda8_8d29_11ea_9580_20cf3011e81crow6_col0\" class=\"data row6 col0\" >4190</td>\n",
       "                        <td id=\"T_8354cda8_8d29_11ea_9580_20cf3011e81crow6_col1\" class=\"data row6 col1\" >0.931484</td>\n",
       "                        <td id=\"T_8354cda8_8d29_11ea_9580_20cf3011e81crow6_col2\" class=\"data row6 col2\" >Nishikori</td>\n",
       "            </tr>\n",
       "            <tr>\n",
       "                                <td id=\"T_8354cda8_8d29_11ea_9580_20cf3011e81crow7_col0\" class=\"data row7 col0\" >2605</td>\n",
       "                        <td id=\"T_8354cda8_8d29_11ea_9580_20cf3011e81crow7_col1\" class=\"data row7 col1\" >0.894371</td>\n",
       "                        <td id=\"T_8354cda8_8d29_11ea_9580_20cf3011e81crow7_col2\" class=\"data row7 col2\" >Coric</td>\n",
       "            </tr>\n",
       "            <tr>\n",
       "                                <td id=\"T_8354cda8_8d29_11ea_9580_20cf3011e81crow8_col0\" class=\"data row8 col0\" >3095</td>\n",
       "                        <td id=\"T_8354cda8_8d29_11ea_9580_20cf3011e81crow8_col1\" class=\"data row8 col1\" >0.890739</td>\n",
       "                        <td id=\"T_8354cda8_8d29_11ea_9580_20cf3011e81crow8_col2\" class=\"data row8 col2\" >Cilic</td>\n",
       "            </tr>\n",
       "            <tr>\n",
       "                                <td id=\"T_8354cda8_8d29_11ea_9580_20cf3011e81crow9_col0\" class=\"data row9 col0\" >2965</td>\n",
       "                        <td id=\"T_8354cda8_8d29_11ea_9580_20cf3011e81crow9_col1\" class=\"data row9 col1\" >0.882016</td>\n",
       "                        <td id=\"T_8354cda8_8d29_11ea_9580_20cf3011e81crow9_col2\" class=\"data row9 col2\" >Tsitsipas</td>\n",
       "            </tr>\n",
       "    </tbody></table>"
      ],
      "text/plain": [
       "<pandas.io.formats.style.Styler at 0x7fd6de8869b0>"
      ]
     },
     "metadata": {},
     "output_type": "display_data"
    },
    {
     "data": {
      "text/html": [
       "<style  type=\"text/css\" >\n",
       "</style><table id=\"T_8354cda9_8d29_11ea_9580_20cf3011e81c\" ><thead>    <tr>        <th class=\"col_heading level0 col0\" >Puntaje ATP</th>        <th class=\"col_heading level0 col1\" >Puntaje CMM</th>        <th class=\"col_heading level0 col2\" >Top ATP</th>    </tr></thead><tbody>\n",
       "                <tr>\n",
       "                                <td id=\"T_8354cda9_8d29_11ea_9580_20cf3011e81crow0_col0\" class=\"data row0 col0\" >10955</td>\n",
       "                        <td id=\"T_8354cda9_8d29_11ea_9580_20cf3011e81crow0_col1\" class=\"data row0 col1\" >1.08582</td>\n",
       "                        <td id=\"T_8354cda9_8d29_11ea_9580_20cf3011e81crow0_col2\" class=\"data row0 col2\" >Djokovic</td>\n",
       "            </tr>\n",
       "            <tr>\n",
       "                                <td id=\"T_8354cda9_8d29_11ea_9580_20cf3011e81crow1_col0\" class=\"data row1 col0\" >8320</td>\n",
       "                        <td id=\"T_8354cda9_8d29_11ea_9580_20cf3011e81crow1_col1\" class=\"data row1 col1\" >1.14249</td>\n",
       "                        <td id=\"T_8354cda9_8d29_11ea_9580_20cf3011e81crow1_col2\" class=\"data row1 col2\" >Nadal</td>\n",
       "            </tr>\n",
       "            <tr>\n",
       "                                <td id=\"T_8354cda9_8d29_11ea_9580_20cf3011e81crow2_col0\" class=\"data row2 col0\" >6475</td>\n",
       "                        <td id=\"T_8354cda9_8d29_11ea_9580_20cf3011e81crow2_col1\" class=\"data row2 col1\" >0.96755</td>\n",
       "                        <td id=\"T_8354cda9_8d29_11ea_9580_20cf3011e81crow2_col2\" class=\"data row2 col2\" >Zverev</td>\n",
       "            </tr>\n",
       "            <tr>\n",
       "                                <td id=\"T_8354cda9_8d29_11ea_9580_20cf3011e81crow3_col0\" class=\"data row3 col0\" >5085</td>\n",
       "                        <td id=\"T_8354cda9_8d29_11ea_9580_20cf3011e81crow3_col1\" class=\"data row3 col1\" >1.01672</td>\n",
       "                        <td id=\"T_8354cda9_8d29_11ea_9580_20cf3011e81crow3_col2\" class=\"data row3 col2\" >Del Potro</td>\n",
       "            </tr>\n",
       "            <tr>\n",
       "                                <td id=\"T_8354cda9_8d29_11ea_9580_20cf3011e81crow4_col0\" class=\"data row4 col0\" >4595</td>\n",
       "                        <td id=\"T_8354cda9_8d29_11ea_9580_20cf3011e81crow4_col1\" class=\"data row4 col1\" >0.933563</td>\n",
       "                        <td id=\"T_8354cda9_8d29_11ea_9580_20cf3011e81crow4_col2\" class=\"data row4 col2\" >Anderson</td>\n",
       "            </tr>\n",
       "            <tr>\n",
       "                                <td id=\"T_8354cda9_8d29_11ea_9580_20cf3011e81crow5_col0\" class=\"data row5 col0\" >4190</td>\n",
       "                        <td id=\"T_8354cda9_8d29_11ea_9580_20cf3011e81crow5_col1\" class=\"data row5 col1\" >0.931484</td>\n",
       "                        <td id=\"T_8354cda9_8d29_11ea_9580_20cf3011e81crow5_col2\" class=\"data row5 col2\" >Nishikori</td>\n",
       "            </tr>\n",
       "            <tr>\n",
       "                                <td id=\"T_8354cda9_8d29_11ea_9580_20cf3011e81crow6_col0\" class=\"data row6 col0\" >4100</td>\n",
       "                        <td id=\"T_8354cda9_8d29_11ea_9580_20cf3011e81crow6_col1\" class=\"data row6 col1\" >1.02906</td>\n",
       "                        <td id=\"T_8354cda9_8d29_11ea_9580_20cf3011e81crow6_col2\" class=\"data row6 col2\" >Federer</td>\n",
       "            </tr>\n",
       "            <tr>\n",
       "                                <td id=\"T_8354cda9_8d29_11ea_9580_20cf3011e81crow7_col0\" class=\"data row7 col0\" >3800</td>\n",
       "                        <td id=\"T_8354cda9_8d29_11ea_9580_20cf3011e81crow7_col1\" class=\"data row7 col1\" >0.879615</td>\n",
       "                        <td id=\"T_8354cda9_8d29_11ea_9580_20cf3011e81crow7_col2\" class=\"data row7 col2\" >Thiem</td>\n",
       "            </tr>\n",
       "            <tr>\n",
       "                                <td id=\"T_8354cda9_8d29_11ea_9580_20cf3011e81crow8_col0\" class=\"data row8 col0\" >3270</td>\n",
       "                        <td id=\"T_8354cda9_8d29_11ea_9580_20cf3011e81crow8_col1\" class=\"data row8 col1\" >0.808518</td>\n",
       "                        <td id=\"T_8354cda9_8d29_11ea_9580_20cf3011e81crow8_col2\" class=\"data row8 col2\" >Isner</td>\n",
       "            </tr>\n",
       "            <tr>\n",
       "                                <td id=\"T_8354cda9_8d29_11ea_9580_20cf3011e81crow9_col0\" class=\"data row9 col0\" >3095</td>\n",
       "                        <td id=\"T_8354cda9_8d29_11ea_9580_20cf3011e81crow9_col1\" class=\"data row9 col1\" >0.890739</td>\n",
       "                        <td id=\"T_8354cda9_8d29_11ea_9580_20cf3011e81crow9_col2\" class=\"data row9 col2\" >Cilic</td>\n",
       "            </tr>\n",
       "    </tbody></table>"
      ],
      "text/plain": [
       "<pandas.io.formats.style.Styler at 0x7fd6de1cfcc0>"
      ]
     },
     "metadata": {},
     "output_type": "display_data"
    }
   ],
   "source": [
    "topCMM = pd.DataFrame({\n",
    "    'Puntaje ATP': rankings['Puntaje ATP'],\n",
    "    'Puntaje CMM': rankings['Puntaje CMM'],\n",
    "    'Top CMM': rankings['Nombre']\n",
    "})\n",
    "topATP = pd.DataFrame({\n",
    "    'Puntaje ATP': rankings['Puntaje ATP'],\n",
    "    'Puntaje CMM': rankings['Puntaje CMM'],\n",
    "    'Top ATP': rankings['Nombre']\n",
    "})\n",
    "display(topCMM.sort_values(by=['Puntaje CMM'], ascending=False).head(10).style.hide_index())\n",
    "display(topATP.sort_values(by=['Puntaje ATP'], ascending=False).head(10).style.hide_index())"
   ]
  },
  {
   "cell_type": "code",
   "execution_count": 11,
   "metadata": {},
   "outputs": [
    {
     "data": {
      "text/plain": [
       "<seaborn.axisgrid.JointGrid at 0x7fd6dd91dba8>"
      ]
     },
     "execution_count": 11,
     "metadata": {},
     "output_type": "execute_result"
    },
    {
     "data": {
      "image/png": "[encoded data removed]",
      "text/plain": [
       "<Figure size 432x432 with 3 Axes>"
      ]
     },
     "metadata": {
      "needs_background": "light"
     },
     "output_type": "display_data"
    }
   ],
   "source": [
    "jp = sns.jointplot(x=\"Puntaje CMM\", y=\"Puntaje ATP\", data=rankings)\n",
    "jp.annotate(stats.pearsonr, fontsize=10, loc=(0.1, 0.9))"
   ]
  },
  {
   "cell_type": "markdown",
   "metadata": {},
   "source": [
    "# CMM-ATP vs ATP oficial"
   ]
  },
  {
   "cell_type": "code",
   "execution_count": 12,
   "metadata": {},
   "outputs": [
    {
     "data": {
      "text/html": [
       "<style  type=\"text/css\" >\n",
       "</style><table id=\"T_86f03650_8d29_11ea_9580_20cf3011e81c\" ><thead>    <tr>        <th class=\"col_heading level0 col0\" >Puntaje ATP</th>        <th class=\"col_heading level0 col1\" >Puntaje CMM-ATP</th>        <th class=\"col_heading level0 col2\" >Top CMM-ATP</th>    </tr></thead><tbody>\n",
       "                <tr>\n",
       "                                <td id=\"T_86f03650_8d29_11ea_9580_20cf3011e81crow0_col0\" class=\"data row0 col0\" >8320</td>\n",
       "                        <td id=\"T_86f03650_8d29_11ea_9580_20cf3011e81crow0_col1\" class=\"data row0 col1\" >1.0343</td>\n",
       "                        <td id=\"T_86f03650_8d29_11ea_9580_20cf3011e81crow0_col2\" class=\"data row0 col2\" >Nadal</td>\n",
       "            </tr>\n",
       "            <tr>\n",
       "                                <td id=\"T_86f03650_8d29_11ea_9580_20cf3011e81crow1_col0\" class=\"data row1 col0\" >10955</td>\n",
       "                        <td id=\"T_86f03650_8d29_11ea_9580_20cf3011e81crow1_col1\" class=\"data row1 col1\" >1.02543</td>\n",
       "                        <td id=\"T_86f03650_8d29_11ea_9580_20cf3011e81crow1_col2\" class=\"data row1 col2\" >Djokovic</td>\n",
       "            </tr>\n",
       "            <tr>\n",
       "                                <td id=\"T_86f03650_8d29_11ea_9580_20cf3011e81crow2_col0\" class=\"data row2 col0\" >5085</td>\n",
       "                        <td id=\"T_86f03650_8d29_11ea_9580_20cf3011e81crow2_col1\" class=\"data row2 col1\" >0.940883</td>\n",
       "                        <td id=\"T_86f03650_8d29_11ea_9580_20cf3011e81crow2_col2\" class=\"data row2 col2\" >Del Potro</td>\n",
       "            </tr>\n",
       "            <tr>\n",
       "                                <td id=\"T_86f03650_8d29_11ea_9580_20cf3011e81crow3_col0\" class=\"data row3 col0\" >4190</td>\n",
       "                        <td id=\"T_86f03650_8d29_11ea_9580_20cf3011e81crow3_col1\" class=\"data row3 col1\" >0.888131</td>\n",
       "                        <td id=\"T_86f03650_8d29_11ea_9580_20cf3011e81crow3_col2\" class=\"data row3 col2\" >Nishikori</td>\n",
       "            </tr>\n",
       "            <tr>\n",
       "                                <td id=\"T_86f03650_8d29_11ea_9580_20cf3011e81crow4_col0\" class=\"data row4 col0\" >4100</td>\n",
       "                        <td id=\"T_86f03650_8d29_11ea_9580_20cf3011e81crow4_col1\" class=\"data row4 col1\" >0.867425</td>\n",
       "                        <td id=\"T_86f03650_8d29_11ea_9580_20cf3011e81crow4_col2\" class=\"data row4 col2\" >Federer</td>\n",
       "            </tr>\n",
       "            <tr>\n",
       "                                <td id=\"T_86f03650_8d29_11ea_9580_20cf3011e81crow5_col0\" class=\"data row5 col0\" >4595</td>\n",
       "                        <td id=\"T_86f03650_8d29_11ea_9580_20cf3011e81crow5_col1\" class=\"data row5 col1\" >0.863087</td>\n",
       "                        <td id=\"T_86f03650_8d29_11ea_9580_20cf3011e81crow5_col2\" class=\"data row5 col2\" >Anderson</td>\n",
       "            </tr>\n",
       "            <tr>\n",
       "                                <td id=\"T_86f03650_8d29_11ea_9580_20cf3011e81crow6_col0\" class=\"data row6 col0\" >6475</td>\n",
       "                        <td id=\"T_86f03650_8d29_11ea_9580_20cf3011e81crow6_col1\" class=\"data row6 col1\" >0.826472</td>\n",
       "                        <td id=\"T_86f03650_8d29_11ea_9580_20cf3011e81crow6_col2\" class=\"data row6 col2\" >Zverev</td>\n",
       "            </tr>\n",
       "            <tr>\n",
       "                                <td id=\"T_86f03650_8d29_11ea_9580_20cf3011e81crow7_col0\" class=\"data row7 col0\" >3800</td>\n",
       "                        <td id=\"T_86f03650_8d29_11ea_9580_20cf3011e81crow7_col1\" class=\"data row7 col1\" >0.821637</td>\n",
       "                        <td id=\"T_86f03650_8d29_11ea_9580_20cf3011e81crow7_col2\" class=\"data row7 col2\" >Thiem</td>\n",
       "            </tr>\n",
       "            <tr>\n",
       "                                <td id=\"T_86f03650_8d29_11ea_9580_20cf3011e81crow8_col0\" class=\"data row8 col0\" >2275</td>\n",
       "                        <td id=\"T_86f03650_8d29_11ea_9580_20cf3011e81crow8_col1\" class=\"data row8 col1\" >0.816285</td>\n",
       "                        <td id=\"T_86f03650_8d29_11ea_9580_20cf3011e81crow8_col2\" class=\"data row8 col2\" >Raonic</td>\n",
       "            </tr>\n",
       "            <tr>\n",
       "                                <td id=\"T_86f03650_8d29_11ea_9580_20cf3011e81crow9_col0\" class=\"data row9 col0\" >3095</td>\n",
       "                        <td id=\"T_86f03650_8d29_11ea_9580_20cf3011e81crow9_col1\" class=\"data row9 col1\" >0.801965</td>\n",
       "                        <td id=\"T_86f03650_8d29_11ea_9580_20cf3011e81crow9_col2\" class=\"data row9 col2\" >Cilic</td>\n",
       "            </tr>\n",
       "    </tbody></table>"
      ],
      "text/plain": [
       "<pandas.io.formats.style.Styler at 0x7fd6dd924518>"
      ]
     },
     "metadata": {},
     "output_type": "display_data"
    },
    {
     "data": {
      "text/html": [
       "<style  type=\"text/css\" >\n",
       "</style><table id=\"T_86f03651_8d29_11ea_9580_20cf3011e81c\" ><thead>    <tr>        <th class=\"col_heading level0 col0\" >Puntaje ATP</th>        <th class=\"col_heading level0 col1\" >Puntaje CMM-ATP</th>        <th class=\"col_heading level0 col2\" >Top ATP</th>    </tr></thead><tbody>\n",
       "                <tr>\n",
       "                                <td id=\"T_86f03651_8d29_11ea_9580_20cf3011e81crow0_col0\" class=\"data row0 col0\" >10955</td>\n",
       "                        <td id=\"T_86f03651_8d29_11ea_9580_20cf3011e81crow0_col1\" class=\"data row0 col1\" >1.02543</td>\n",
       "                        <td id=\"T_86f03651_8d29_11ea_9580_20cf3011e81crow0_col2\" class=\"data row0 col2\" >Djokovic</td>\n",
       "            </tr>\n",
       "            <tr>\n",
       "                                <td id=\"T_86f03651_8d29_11ea_9580_20cf3011e81crow1_col0\" class=\"data row1 col0\" >8320</td>\n",
       "                        <td id=\"T_86f03651_8d29_11ea_9580_20cf3011e81crow1_col1\" class=\"data row1 col1\" >1.0343</td>\n",
       "                        <td id=\"T_86f03651_8d29_11ea_9580_20cf3011e81crow1_col2\" class=\"data row1 col2\" >Nadal</td>\n",
       "            </tr>\n",
       "            <tr>\n",
       "                                <td id=\"T_86f03651_8d29_11ea_9580_20cf3011e81crow2_col0\" class=\"data row2 col0\" >6475</td>\n",
       "                        <td id=\"T_86f03651_8d29_11ea_9580_20cf3011e81crow2_col1\" class=\"data row2 col1\" >0.826472</td>\n",
       "                        <td id=\"T_86f03651_8d29_11ea_9580_20cf3011e81crow2_col2\" class=\"data row2 col2\" >Zverev</td>\n",
       "            </tr>\n",
       "            <tr>\n",
       "                                <td id=\"T_86f03651_8d29_11ea_9580_20cf3011e81crow3_col0\" class=\"data row3 col0\" >5085</td>\n",
       "                        <td id=\"T_86f03651_8d29_11ea_9580_20cf3011e81crow3_col1\" class=\"data row3 col1\" >0.940883</td>\n",
       "                        <td id=\"T_86f03651_8d29_11ea_9580_20cf3011e81crow3_col2\" class=\"data row3 col2\" >Del Potro</td>\n",
       "            </tr>\n",
       "            <tr>\n",
       "                                <td id=\"T_86f03651_8d29_11ea_9580_20cf3011e81crow4_col0\" class=\"data row4 col0\" >4595</td>\n",
       "                        <td id=\"T_86f03651_8d29_11ea_9580_20cf3011e81crow4_col1\" class=\"data row4 col1\" >0.863087</td>\n",
       "                        <td id=\"T_86f03651_8d29_11ea_9580_20cf3011e81crow4_col2\" class=\"data row4 col2\" >Anderson</td>\n",
       "            </tr>\n",
       "            <tr>\n",
       "                                <td id=\"T_86f03651_8d29_11ea_9580_20cf3011e81crow5_col0\" class=\"data row5 col0\" >4190</td>\n",
       "                        <td id=\"T_86f03651_8d29_11ea_9580_20cf3011e81crow5_col1\" class=\"data row5 col1\" >0.888131</td>\n",
       "                        <td id=\"T_86f03651_8d29_11ea_9580_20cf3011e81crow5_col2\" class=\"data row5 col2\" >Nishikori</td>\n",
       "            </tr>\n",
       "            <tr>\n",
       "                                <td id=\"T_86f03651_8d29_11ea_9580_20cf3011e81crow6_col0\" class=\"data row6 col0\" >4100</td>\n",
       "                        <td id=\"T_86f03651_8d29_11ea_9580_20cf3011e81crow6_col1\" class=\"data row6 col1\" >0.867425</td>\n",
       "                        <td id=\"T_86f03651_8d29_11ea_9580_20cf3011e81crow6_col2\" class=\"data row6 col2\" >Federer</td>\n",
       "            </tr>\n",
       "            <tr>\n",
       "                                <td id=\"T_86f03651_8d29_11ea_9580_20cf3011e81crow7_col0\" class=\"data row7 col0\" >3800</td>\n",
       "                        <td id=\"T_86f03651_8d29_11ea_9580_20cf3011e81crow7_col1\" class=\"data row7 col1\" >0.821637</td>\n",
       "                        <td id=\"T_86f03651_8d29_11ea_9580_20cf3011e81crow7_col2\" class=\"data row7 col2\" >Thiem</td>\n",
       "            </tr>\n",
       "            <tr>\n",
       "                                <td id=\"T_86f03651_8d29_11ea_9580_20cf3011e81crow8_col0\" class=\"data row8 col0\" >3270</td>\n",
       "                        <td id=\"T_86f03651_8d29_11ea_9580_20cf3011e81crow8_col1\" class=\"data row8 col1\" >0.788016</td>\n",
       "                        <td id=\"T_86f03651_8d29_11ea_9580_20cf3011e81crow8_col2\" class=\"data row8 col2\" >Isner</td>\n",
       "            </tr>\n",
       "            <tr>\n",
       "                                <td id=\"T_86f03651_8d29_11ea_9580_20cf3011e81crow9_col0\" class=\"data row9 col0\" >3095</td>\n",
       "                        <td id=\"T_86f03651_8d29_11ea_9580_20cf3011e81crow9_col1\" class=\"data row9 col1\" >0.801965</td>\n",
       "                        <td id=\"T_86f03651_8d29_11ea_9580_20cf3011e81crow9_col2\" class=\"data row9 col2\" >Cilic</td>\n",
       "            </tr>\n",
       "    </tbody></table>"
      ],
      "text/plain": [
       "<pandas.io.formats.style.Styler at 0x7fd6dd7906a0>"
      ]
     },
     "metadata": {},
     "output_type": "display_data"
    }
   ],
   "source": [
    "topCMM_ATP = pd.DataFrame({\n",
    "    'Puntaje ATP': rankings['Puntaje ATP'],\n",
    "    'Puntaje CMM-ATP': rankings['Puntaje CMM-ATP'],\n",
    "    'Top CMM-ATP': rankings['Nombre']\n",
    "})\n",
    "topATP = pd.DataFrame({\n",
    "    'Puntaje ATP': rankings['Puntaje ATP'],\n",
    "    'Puntaje CMM-ATP': rankings['Puntaje CMM-ATP'],\n",
    "    'Top ATP': rankings['Nombre']\n",
    "})\n",
    "display(topCMM_ATP.sort_values(by=['Puntaje CMM-ATP'], ascending=False).head(10).style.hide_index())\n",
    "display(topATP.sort_values(by=['Puntaje ATP'], ascending=False).head(10).style.hide_index())"
   ]
  },
  {
   "cell_type": "code",
   "execution_count": 13,
   "metadata": {},
   "outputs": [
    {
     "data": {
      "text/plain": [
       "<seaborn.axisgrid.JointGrid at 0x7fd6dd7b3358>"
      ]
     },
     "execution_count": 13,
     "metadata": {},
     "output_type": "execute_result"
    },
    {
     "data": {
      "image/png": "[encoded data removed]",
      "text/plain": [
       "<Figure size 432x432 with 3 Axes>"
      ]
     },
     "metadata": {
      "needs_background": "light"
     },
     "output_type": "display_data"
    }
   ],
   "source": [
    "jp = sns.jointplot(x=\"Puntaje CMM-ATP\", y=\"Puntaje ATP\", data=rankings)\n",
    "jp.annotate(stats.pearsonr, fontsize=10, loc=(0.1, 0.9))"
   ]
  },
  {
   "cell_type": "code",
   "execution_count": null,
   "metadata": {},
   "outputs": [],
   "source": []
  }
 ],
 "metadata": {
  "kernelspec": {
   "display_name": "Python 3",
   "language": "python",
   "name": "python3"
  },
  "language_info": {
   "codemirror_mode": {
    "name": "ipython",
    "version": 3
   },
   "file_extension": ".py",
   "mimetype": "text/x-python",
   "name": "python",
   "nbconvert_exporter": "python",
   "pygments_lexer": "ipython3",
   "version": "3.6.8"
  }
 },
 "nbformat": 4,
 "nbformat_minor": 2
}
